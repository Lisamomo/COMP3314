{
 "cells": [
  {
   "cell_type": "markdown",
   "metadata": {
    "slideshow": {
     "slide_type": "slide"
    }
   },
   "source": [
    "# Assignment 6\n",
    "\n",
    "This assignment has weighting $3.5$.\n",
    "The first question about clustering has 35%, and the second question about tiny image classification has 65%.\n",
    "\n",
    "This is a challenging assignment, so I recommend you start early."
   ]
  },
  {
   "cell_type": "markdown",
   "metadata": {
    "slideshow": {
     "slide_type": "slide"
    }
   },
   "source": [
    "# Clustering for handwritten digits\n",
    "\n",
    "Supervised learning requires labeled data, which can be expensive to acquire.\n",
    "For example, a dataset with $N$ samples for classification will require manual labeling $N$ times.\n",
    "\n",
    "One way to ameliorate this issue is to perform clustering of the raw data samples first, followed by manual inspection and labeling of only a few samples.\n",
    "Recall that clustering is a form of non-supervised learning, so it does not require any class labels.\n",
    "\n",
    "For example, say we are given a set of scanned hand-written digit images.\n",
    "We can cluster them into 10 groups first, manually inspect and label a few images in each cluster, and propagate the label towards the rest of all (unlabeled) samples in each cluster.\n",
    "\n",
    "The accuracy of such semi-automatic labeling depends on the accuracy of the clustering.\n",
    "If each cluster (0 to 9) corresponds exactly to hand-written digits 0-9, we are fine.\n",
    "Otherwise, we have some mis-labeled data.\n",
    "\n",
    "The goal of this question is to exercise clustering of the scikit-learn digits dataset which has labels, so that we can verify our clustering accuracy.\n",
    "The specifics are as follows.\n",
    "\n",
    "You will be judged by the test accuracy of your code, and quality of descriptions of your method.\n",
    "As a reference, a simple code I (Li-Yi) wrote can achieve about 78% accuracy. Try to beat it as much as you can."
   ]
  },
  {
   "cell_type": "markdown",
   "metadata": {
    "slideshow": {
     "slide_type": "subslide"
    }
   },
   "source": [
    "## Training and test data split\n",
    "\n",
    "We will split the original dataset into training and test datasets\n",
    "* training for building our clusters\n",
    "* testing to see if the clusters can predict future data\n",
    "\n",
    "## Accuracy\n",
    "What is your clustering accuracy (comparing cluster labels with the ground truth labels), and what are the properties of mis-clustered samples?\n",
    "\n",
    "## Data preprocessing\n",
    "Would the original features (pixels) work well, or we need further processing like scaling/standardization or dimensionality-reduction, before clustering?\n",
    "\n",
    "## Models and hyper-parameters\n",
    "\n",
    "Let's focus on k-means clustering, as hierarchical and density-based clustering do not provide the predict() method under scikit-learn.\n",
    "\n",
    "What is the best test performance you can achieve with which hyper-parameters (for k-means, standard scalar, and dimensionality reduction)?\n",
    "\n",
    "### Hint\n",
    "We have learned Pipeline and GridSearchCV for cross validation and hyper-parameter tuning."
   ]
  },
  {
   "cell_type": "code",
   "execution_count": 1,
   "metadata": {
    "collapsed": false,
    "slideshow": {
     "slide_type": "skip"
    }
   },
   "outputs": [
    {
     "name": "stdout",
     "output_type": "stream",
     "text": [
      "last updated: 2016-12-05 \n",
      "\n",
      "CPython 3.5.2\n",
      "IPython 5.1.0\n",
      "\n",
      "numpy 1.11.2\n",
      "pandas 0.19.1\n",
      "matplotlib 1.5.3\n",
      "scipy 0.18.1\n",
      "sklearn 0.18.1\n"
     ]
    }
   ],
   "source": [
    "%load_ext watermark\n",
    "%watermark -a '' -u -d -v -p numpy,pandas,matplotlib,scipy,sklearn\n",
    "%matplotlib inline"
   ]
  },
  {
   "cell_type": "code",
   "execution_count": 2,
   "metadata": {
    "collapsed": true,
    "slideshow": {
     "slide_type": "skip"
    }
   },
   "outputs": [],
   "source": [
    "# Added version check for recent scikit-learn 0.18 checks\n",
    "from distutils.version import LooseVersion as Version\n",
    "from sklearn import __version__ as sklearn_version"
   ]
  },
  {
   "cell_type": "markdown",
   "metadata": {
    "slideshow": {
     "slide_type": "fragment"
    }
   },
   "source": [
    "## Load data"
   ]
  },
  {
   "cell_type": "code",
   "execution_count": 3,
   "metadata": {
    "collapsed": false,
    "slideshow": {
     "slide_type": "fragment"
    }
   },
   "outputs": [
    {
     "name": "stdout",
     "output_type": "stream",
     "text": [
      "(1797, 64)\n",
      "(1797,)\n",
      "[0 1 2 3 4 5 6 7 8 9]\n"
     ]
    }
   ],
   "source": [
    "import numpy as np\n",
    "\n",
    "from sklearn.datasets import load_digits\n",
    "digits = load_digits()\n",
    "\n",
    "X = digits.data # data in pixels\n",
    "y = digits.target # digit labels\n",
    "\n",
    "print(X.shape)\n",
    "print(y.shape)\n",
    "\n",
    "print(np.unique(y))"
   ]
  },
  {
   "cell_type": "markdown",
   "metadata": {
    "slideshow": {
     "slide_type": "fragment"
    }
   },
   "source": [
    "## Visualize data"
   ]
  },
  {
   "cell_type": "code",
   "execution_count": 4,
   "metadata": {
    "collapsed": false,
    "slideshow": {
     "slide_type": "fragment"
    }
   },
   "outputs": [
    {
     "data": {
      "image/png": "[encoded data removed]",
      "text/plain": [
       "<matplotlib.figure.Figure at 0x7f37904c37b8>"
      ]
     },
     "metadata": {},
     "output_type": "display_data"
    }
   ],
   "source": [
    "import matplotlib.pyplot as plt\n",
    "import pylab as pl\n",
    "\n",
    "num_rows = 4\n",
    "num_cols = 5\n",
    "\n",
    "fig, ax = plt.subplots(nrows=num_rows, ncols=num_cols, sharex=True, sharey=True)\n",
    "ax = ax.flatten()\n",
    "for index in range(num_rows*num_cols):\n",
    "    img = digits.images[index]\n",
    "    label = digits.target[index]\n",
    "    ax[index].imshow(img, cmap='Greys', interpolation='nearest')\n",
    "    ax[index].set_title('digit ' + str(label))\n",
    "\n",
    "ax[0].set_xticks([])\n",
    "ax[0].set_yticks([])\n",
    "plt.tight_layout()\n",
    "plt.show()"
   ]
  },
  {
   "cell_type": "markdown",
   "metadata": {
    "slideshow": {
     "slide_type": "fragment"
    }
   },
   "source": [
    "## Data sets: training versus test"
   ]
  },
  {
   "cell_type": "code",
   "execution_count": 5,
   "metadata": {
    "collapsed": false,
    "slideshow": {
     "slide_type": "fragment"
    }
   },
   "outputs": [
    {
     "name": "stdout",
     "output_type": "stream",
     "text": [
      "training: 1257, test: 540\n"
     ]
    }
   ],
   "source": [
    "if Version(sklearn_version) < '0.18':\n",
    "    from sklearn.cross_validation import train_test_split\n",
    "else:\n",
    "    from sklearn.model_selection import train_test_split\n",
    "    \n",
    "X_train, X_test, y_train, y_test = train_test_split(\n",
    "    X, y, test_size=0.3, random_state=1)\n",
    "\n",
    "num_training = y_train.shape[0]\n",
    "num_test = y_test.shape[0]\n",
    "print('training: ' + str(num_training) + ', test: ' + str(num_test))"
   ]
  },
  {
   "cell_type": "code",
   "execution_count": 6,
   "metadata": {
    "collapsed": false,
    "slideshow": {
     "slide_type": "fragment"
    }
   },
   "outputs": [
    {
     "name": "stdout",
     "output_type": "stream",
     "text": [
      "[119 133 128 119 120 135 130 122 128 123]\n",
      "[59 49 49 64 61 47 51 57 46 57]\n"
     ]
    }
   ],
   "source": [
    "import numpy as np\n",
    "\n",
    "# check to see if the data are well distributed among digits\n",
    "for y in [y_train, y_test]:\n",
    "    print(np.bincount(y))"
   ]
  },
  {
   "cell_type": "markdown",
   "metadata": {
    "slideshow": {
     "slide_type": "subslide"
    }
   },
   "source": [
    "## Answer"
   ]
  },
  {
   "cell_type": "markdown",
   "metadata": {
    "slideshow": {
     "slide_type": "fragment"
    }
   },
   "source": [
    "We first write a scoring function for clustering so that we can use for GridSearchCV.\n",
    "Take a look at use_scorer under scikit learn."
   ]
  },
  {
   "cell_type": "code",
   "execution_count": 7,
   "metadata": {
    "collapsed": false,
    "slideshow": {
     "slide_type": "fragment"
    }
   },
   "outputs": [],
   "source": [
    "from sklearn.metrics import accuracy_score, make_scorer\n",
    "from itertools import permutations\n",
    "\n",
    "def clustering_accuracy_score(y_true, y_pred):   \n",
    "    #find how many unique labels exist in y_true and y_cm\n",
    "    y_cm = y_pred\n",
    "    index_true = np.unique(y_true)\n",
    "    index_cm = np.unique(y_cm)\n",
    "    \n",
    "    #good is used to find the perfect label for y_cm\n",
    "    good = [-1] * len(index_cm)\n",
    "  \n",
    "    #find the perfect label\n",
    "    for i in range(len(index_cm)):\n",
    "        y_true_test = y_true[y_cm == index_cm[i]]\n",
    "        good[i] = np.argmax(np.bincount(y_true_test))\n",
    "        \n",
    "    #modify the index of y_cm to reach consistency with y_true\n",
    "    good = np.array(good)\n",
    "    for i in range(len(y_cm)):\n",
    "        y_cm[i] = good[np.where(index_cm == y_cm[i])][0]\n",
    "  \n",
    "    return accuracy_score(y_true = y_true, y_pred = y_cm)    \n",
    "\n",
    "clustering_accuracy = make_scorer(clustering_accuracy_score) "
   ]
  },
  {
   "cell_type": "code",
   "execution_count": 8,
   "metadata": {
    "collapsed": false,
    "slideshow": {
     "slide_type": "fragment"
    }
   },
   "outputs": [
    {
     "name": "stdout",
     "output_type": "stream",
     "text": [
      "accuracy 1.0 , should be 1\n",
      "accuracy 0.833333333333 , should be 0.8333333333333334\n",
      "accuracy 0.833333333333 , should be 0.6666666666666666\n"
     ]
    }
   ],
   "source": [
    "# toy case demonstrating the clustering accuracy\n",
    "# this is just a reference to illustrate what this score function is trying to achieve\n",
    "# feel free to design your own as long as you can justify\n",
    "\n",
    "# ground truth class label for samples\n",
    "toy_y_true = np.array([0, 0, 0, 1, 1, 2])\n",
    "# clustering id for samples\n",
    "toy_y_pred_true = np.array([1, 1, 1, 2, 2, 0])\n",
    "toy_y_pred_bad1 = np.array([0, 0, 1, 1, 1, 2])\n",
    "toy_y_pred_bad2 = np.array([2, 2, 1, 0, 0, 0])\n",
    "\n",
    "toy_accuracy = clustering_accuracy_score(toy_y_true, toy_y_pred_true)\n",
    "print('accuracy', toy_accuracy, ', should be 1')\n",
    "\n",
    "toy_accuracy = clustering_accuracy_score(toy_y_true, toy_y_pred_bad1)\n",
    "print('accuracy', toy_accuracy, ', should be', 5.0/6.0)\n",
    "\n",
    "toy_accuracy = clustering_accuracy_score(toy_y_true, toy_y_pred_bad2)\n",
    "print('accuracy', toy_accuracy, ', should be', 4.0/6.0)"
   ]
  },
  {
   "cell_type": "markdown",
   "metadata": {
    "slideshow": {
     "slide_type": "fragment"
    }
   },
   "source": [
    "For toy_y_pred_bad2, the accuracy I have is different from the accuracy provided. From my point of view, \n",
    "y_cm     y_true\n",
    "0    ->    1\n",
    "1    ->    0\n",
    "2    ->    0\n",
    "Thus, y_cm turns into 0, 0, 0, 1, 1, 1. And the accuracy is 5/6"
   ]
  },
  {
   "cell_type": "markdown",
   "metadata": {
    "slideshow": {
     "slide_type": "fragment"
    }
   },
   "source": [
    "Build a pipeline with standard scaler, PCA, and clustering."
   ]
  },
  {
   "cell_type": "code",
   "execution_count": 9,
   "metadata": {
    "collapsed": false,
    "slideshow": {
     "slide_type": "fragment"
    }
   },
   "outputs": [],
   "source": [
    "# your code\n",
    "from sklearn.preprocessing import StandardScaler\n",
    "from sklearn.decomposition import PCA\n",
    "from sklearn.cluster import KMeans\n",
    "from sklearn.pipeline import Pipeline\n",
    "\n",
    "pipe_clt = Pipeline([('scl', StandardScaler()),\n",
    "                    ('pca', PCA(n_components=2)),\n",
    "                    ('clt', KMeans(n_clusters= 10, tol=1e-04))])\n"
   ]
  },
  {
   "cell_type": "markdown",
   "metadata": {
    "slideshow": {
     "slide_type": "fragment"
    }
   },
   "source": [
    "Use GridSearchCV to tune hyper-parameters."
   ]
  },
  {
   "cell_type": "code",
   "execution_count": 10,
   "metadata": {
    "collapsed": false,
    "slideshow": {
     "slide_type": "fragment"
    }
   },
   "outputs": [
    {
     "data": {
      "text/plain": [
       "{'clt': KMeans(algorithm='auto', copy_x=True, init='k-means++', max_iter=300,\n",
       "     n_clusters=10, n_init=10, n_jobs=1, precompute_distances='auto',\n",
       "     random_state=None, tol=0.0001, verbose=0),\n",
       " 'clt__algorithm': 'auto',\n",
       " 'clt__copy_x': True,\n",
       " 'clt__init': 'k-means++',\n",
       " 'clt__max_iter': 300,\n",
       " 'clt__n_clusters': 10,\n",
       " 'clt__n_init': 10,\n",
       " 'clt__n_jobs': 1,\n",
       " 'clt__precompute_distances': 'auto',\n",
       " 'clt__random_state': None,\n",
       " 'clt__tol': 0.0001,\n",
       " 'clt__verbose': 0,\n",
       " 'pca': PCA(copy=True, iterated_power='auto', n_components=2, random_state=None,\n",
       "   svd_solver='auto', tol=0.0, whiten=False),\n",
       " 'pca__copy': True,\n",
       " 'pca__iterated_power': 'auto',\n",
       " 'pca__n_components': 2,\n",
       " 'pca__random_state': None,\n",
       " 'pca__svd_solver': 'auto',\n",
       " 'pca__tol': 0.0,\n",
       " 'pca__whiten': False,\n",
       " 'scl': StandardScaler(copy=True, with_mean=True, with_std=True),\n",
       " 'scl__copy': True,\n",
       " 'scl__with_mean': True,\n",
       " 'scl__with_std': True,\n",
       " 'steps': [('scl', StandardScaler(copy=True, with_mean=True, with_std=True)),\n",
       "  ('pca',\n",
       "   PCA(copy=True, iterated_power='auto', n_components=2, random_state=None,\n",
       "     svd_solver='auto', tol=0.0, whiten=False)),\n",
       "  ('clt', KMeans(algorithm='auto', copy_x=True, init='k-means++', max_iter=300,\n",
       "       n_clusters=10, n_init=10, n_jobs=1, precompute_distances='auto',\n",
       "       random_state=None, tol=0.0001, verbose=0))]}"
      ]
     },
     "execution_count": 10,
     "metadata": {},
     "output_type": "execute_result"
    }
   ],
   "source": [
    "# to see which hyper-parameters can be tuned\n",
    "pipe_clt.get_params()"
   ]
  },
  {
   "cell_type": "code",
   "execution_count": 11,
   "metadata": {
    "collapsed": false,
    "slideshow": {
     "slide_type": "fragment"
    }
   },
   "outputs": [
    {
     "name": "stdout",
     "output_type": "stream",
     "text": [
      "Fitting 10 folds for each of 2112 candidates, totalling 21120 fits\n"
     ]
    },
    {
     "name": "stderr",
     "output_type": "stream",
     "text": [
      "[Parallel(n_jobs=1)]: Done 21120 out of 21120 | elapsed: 52.6min finished\n"
     ]
    },
    {
     "name": "stdout",
     "output_type": "stream",
     "text": [
      "Fitting 10 folds for each of 2112 candidates, totalling 21120 fits\n"
     ]
    },
    {
     "name": "stderr",
     "output_type": "stream",
     "text": [
      "[Parallel(n_jobs=1)]: Done 21120 out of 21120 | elapsed: 49.4min finished\n"
     ]
    }
   ],
   "source": [
    "# your code\n",
    "\n",
    "from sklearn.model_selection import GridSearchCV\n",
    "\n",
    "# turn on scaling\n",
    "param_grid1 = {'scl__with_mean': [True],\n",
    "              'scl__with_std': [True],\n",
    "              'pca__n_components': np.array(range(1,X.shape[1]+1)),\n",
    "              'clt__max_iter': [100, 200, 300],\n",
    "              'clt__n_clusters': np.array(range(10,21))}          \n",
    "\n",
    "# turn off scaling\n",
    "param_grid2 = {'scl__with_mean': [False],\n",
    "              'scl__with_std': [False],\n",
    "              'pca__n_components': np.array(range(1,X.shape[1]+1)),\n",
    "              'clt__max_iter': [100, 200, 300],\n",
    "              'clt__n_clusters': np.array(range(10,21))}   \n",
    "    \n",
    "gs1 = GridSearchCV(estimator=pipe_clt,\n",
    "                  param_grid=param_grid1, \n",
    "                  scoring=clustering_accuracy, \n",
    "                  cv=10,\n",
    "                  n_jobs=1,\n",
    "                  verbose=True\n",
    "                 )\n",
    "\n",
    "gs2 = GridSearchCV(estimator=pipe_clt,\n",
    "                  param_grid=param_grid2, \n",
    "                  scoring=clustering_accuracy, \n",
    "                  cv=10,\n",
    "                  n_jobs=1,\n",
    "                  verbose=True\n",
    "                 )\n",
    "\n",
    "# previously, when I just use 1 gs to do the GridSearchCV, the result turns out that StandardScaler(copy=True, with_mean=False, with_std=True)\n",
    "# which makes no sense... \n",
    "# So I use 2 gs to test whether the data should be scaled before clustering\n",
    "gs1 = gs1.fit(X_train, y_train)\n",
    "gs2 = gs2.fit(X_train, y_train)        \n",
    "\n",
    "# below is Li-Yi's dummy code to build a random guess model\n",
    "import numpy as np\n",
    "class RandomGuesser:\n",
    "    def __init__(self, num_classes):\n",
    "        self.num_classes = num_classes\n",
    "    def predict(self, X):\n",
    "        y = np.random.randint(low = 0, high = self.num_classes, size = X.shape[0])\n",
    "        return y"
   ]
  },
  {
   "cell_type": "code",
   "execution_count": 12,
   "metadata": {
    "collapsed": false,
    "slideshow": {
     "slide_type": "fragment"
    }
   },
   "outputs": [
    {
     "name": "stdout",
     "output_type": "stream",
     "text": [
      "Pipeline(steps=[('scl', StandardScaler(copy=True, with_mean=False, with_std=False)), ('pca', PCA(copy=True, iterated_power='auto', n_components=55, random_state=None,\n",
      "  svd_solver='auto', tol=0.0, whiten=False)), ('clt', KMeans(algorithm='auto', copy_x=True, init='k-means++', max_iter=300,\n",
      "    n_clusters=20, n_init=10, n_jobs=1, precompute_distances='auto',\n",
      "    random_state=None, tol=0.0001, verbose=0))])\n",
      "Test accuracy: 0.900\n"
     ]
    }
   ],
   "source": [
    "#best_model = RandomGuesser(10) # replace this with the best model you can build\n",
    "#test whether with scaling or not performs better\n",
    "if gs1.best_score_ > gs2.best_score_:\n",
    "    best_model = gs1.best_estimator_\n",
    "else:\n",
    "    best_model = gs2.best_estimator_\n",
    "\n",
    "print (best_model)\n",
    "\n",
    "best_model.fit(X_train, y_train)\n",
    "y_cm = best_model.predict(X_test)\n",
    "\n",
    "print('Test accuracy: %.3f' % clustering_accuracy_score(y_true=y_test, y_pred=y_cm))\n",
    "\n",
    "#print('Test accuracy: %.3f' % best_model.score(X_test, y_test))"
   ]
  },
  {
   "cell_type": "markdown",
   "metadata": {
    "slideshow": {
     "slide_type": "fragment"
    }
   },
   "source": [
    "Visualize mis-clustered samples, and provide your explanation."
   ]
  },
  {
   "cell_type": "code",
   "execution_count": 13,
   "metadata": {
    "collapsed": false,
    "slideshow": {
     "slide_type": "fragment"
    }
   },
   "outputs": [
    {
     "data": {
      "image/png": "[encoded data removed]",
      "text/plain": [
       "<matplotlib.figure.Figure at 0x7f3787750fd0>"
      ]
     },
     "metadata": {},
     "output_type": "display_data"
    }
   ],
   "source": [
    "import matplotlib.pyplot as plt\n",
    "import pylab as pl\n",
    "import math\n",
    "\n",
    "mis_img = X_test[y_test != y_cm][:]\n",
    "correct_label = y_test[y_test != y_cm][:]\n",
    "mis_label = y_cm[y_test != y_cm][:]\n",
    "\n",
    "nrow = math.ceil(len(mis_img) / 5)\n",
    "fig, ax = plt.subplots(nrows=nrow, ncols=5, sharex=True, sharey=True,figsize = (6,nrow))\n",
    "ax = ax.flatten()\n",
    "for i in range(len(mis_img)):   \n",
    "    img = mis_img[i].reshape(8, 8)\n",
    "    ax[i].imshow(img, cmap='Greys', interpolation='nearest')\n",
    "    ax[i].set_title('%d) t: %d p: %d' % (i+1, correct_label[i], mis_label[i]))\n",
    "\n",
    "ax[0].set_xticks([])\n",
    "ax[0].set_yticks([])\n",
    "plt.tight_layout()\n",
    "plt.show()"
   ]
  },
  {
   "cell_type": "markdown",
   "metadata": {
    "slideshow": {
     "slide_type": "fragment"
    }
   },
   "source": [
    "your explanation"
   ]
  },
  {
   "cell_type": "markdown",
   "metadata": {
    "slideshow": {
     "slide_type": "fragment"
    }
   },
   "source": [
    "\n",
    "## Accuracy\n",
    "\n",
    "My accuracy is around 90%.\n",
    "Actually, the mis-clustered samples take the form of a mixture of true value and predicted value.Sometimes, it is even difficult for human beings to distinguish and give the correct labels. For example, image36's true value should be 8. However, I cannot tell whether it is 1, 7 or 9, but never 8! Also noteworthy is that the pixels of the datasets are very low. If these samples have a higher resolution, the prediction will be improved without doubt. Furthermore, I use 20 clusters to train the data. The increasing use of the clusters can better catch characteristics of the handwriting of various people. Even for the same number, let's say 7, our writing habit are not the same.\n",
    "\n",
    "## Data preprocessing\n",
    "\n",
    "According to GridSearchCV, we don't need to go through standardization for data preprocessing. What we need to go through is dimensionality reduction According to my experiment, PCA of the best model uses 55 components."
   ]
  },
  {
   "cell_type": "markdown",
   "metadata": {
    "slideshow": {
     "slide_type": "slide"
    }
   },
   "source": [
    "# Tiny image classification\n",
    "\n",
    "We will use the [CIFAR-10 dataset](https://www.cs.toronto.edu/~kriz/cifar.html) for image object recognition.\n",
    "The dataset consists of 50000 training samples and 10000 test samples in 10 different classes (airplane, automobile, bird, cat, deer, dog, frog, horse, ship, truck; see the link above for more information).\n",
    "The goal is to maximize the accuracy of your classifier on the test dataset after being optimized via the training dataset.\n",
    "\n",
    "You can use any learning models (supervised or unsupervised) or optimization methods (e.g. search methods for hyper-parameters).\n",
    "The only requirement is that your code can run inside an ipynb file, as usual.\n",
    "Please provide a description of your method, in addition to the code.\n",
    "Your answer will be evaluated not only on the test accuracy but also on the creativity of your methodology and the quality of your explanation/description."
   ]
  },
  {
   "cell_type": "markdown",
   "metadata": {
    "slideshow": {
     "slide_type": "subslide"
    }
   },
   "source": [
    "## Sample code to get you started\n",
    "\n",
    "This is a difficult classification task.\n",
    "A sample code below, based on a simple fully connected neural network built via Keras, is provided below.\n",
    "The test accuracy is about 43%."
   ]
  },
  {
   "cell_type": "code",
   "execution_count": 14,
   "metadata": {
    "collapsed": false,
    "slideshow": {
     "slide_type": "fragment"
    }
   },
   "outputs": [
    {
     "name": "stdout",
     "output_type": "stream",
     "text": [
      "The watermark extension is already loaded. To reload it, use:\n",
      "  %reload_ext watermark\n"
     ]
    },
    {
     "name": "stderr",
     "output_type": "stream",
     "text": [
      "Using TensorFlow backend.\n"
     ]
    },
    {
     "name": "stdout",
     "output_type": "stream",
     "text": [
      "last updated: 2016-12-05 \n",
      "\n",
      "CPython 3.5.2\n",
      "IPython 5.1.0\n",
      "\n",
      "numpy 1.11.2\n",
      "keras 1.1.1\n"
     ]
    }
   ],
   "source": [
    "%load_ext watermark\n",
    "%watermark -a '' -u -d -v -p numpy,keras"
   ]
  },
  {
   "cell_type": "code",
   "execution_count": 15,
   "metadata": {
    "collapsed": false,
    "slideshow": {
     "slide_type": "fragment"
    }
   },
   "outputs": [
    {
     "name": "stdout",
     "output_type": "stream",
     "text": [
      "image shape:  (32, 32, 3)\n",
      "50000 training samples\n",
      "10000 test samples\n",
      "10 classes\n"
     ]
    }
   ],
   "source": [
    "from keras.datasets import cifar10\n",
    "from keras.utils import np_utils\n",
    "from keras.models import Sequential\n",
    "from keras.layers import Dense, Dropout, Activation, Flatten\n",
    "from keras.layers import Convolution2D, MaxPooling2D\n",
    "from keras.optimizers import SGD\n",
    "import numpy as np\n",
    "from sklearn.metrics import accuracy_score\n",
    "\n",
    "# load data set\n",
    "(X_train, y_train), (X_test, y_test) = cifar10.load_data()\n",
    "\n",
    "img_shape = X_train.shape[1:] # [num_rows, num_cols, num_channels]\n",
    "num_img_pixels = np.prod(img_shape)\n",
    "num_training_samples = X_train.shape[0]\n",
    "num_test_samples = X_test.shape[0]\n",
    "\n",
    "nb_classes = np.sum(np.unique(y_train).shape)\n",
    "\n",
    "print('image shape: ', img_shape)\n",
    "print(X_train.shape[0], 'training samples')\n",
    "print(X_test.shape[0], 'test samples')\n",
    "print(nb_classes, 'classes')\n",
    "\n",
    "# data processing\n",
    "\n",
    "X_train = X_train.reshape(num_training_samples, num_img_pixels)\n",
    "X_test = X_test.reshape(num_test_samples, num_img_pixels)\n",
    "\n",
    "X_train = X_train.astype('float32')\n",
    "X_test = X_test.astype('float32')\n",
    "X_train /= 255\n",
    "X_test /= 255\n",
    "\n",
    "# one hot encoding of labels\n",
    "y_train_ohe = np_utils.to_categorical(y_train)\n",
    "y_test_ohe = np_utils.to_categorical(y_test)"
   ]
  },
  {
   "cell_type": "code",
   "execution_count": 3,
   "metadata": {
    "collapsed": false,
    "slideshow": {
     "slide_type": "fragment"
    }
   },
   "outputs": [],
   "source": [
    "# build a basic network\n",
    "\n",
    "model = Sequential()\n",
    "\n",
    "model.add(Dense(input_dim = num_img_pixels, \n",
    "                output_dim = 50, \n",
    "                init = 'uniform', \n",
    "                activation = 'tanh'))\n",
    "\n",
    "model.add(Dense(output_dim = 50, \n",
    "                init = 'uniform', \n",
    "                activation = 'tanh'))\n",
    "\n",
    "model.add(Dense(output_dim = nb_classes, \n",
    "                init = 'uniform', \n",
    "                activation = 'softmax'))\n",
    "\n",
    "sgd = SGD(lr=0.001, decay=1e-7, momentum=.9)\n",
    "\n",
    "model.compile(loss = 'categorical_crossentropy', \n",
    "              optimizer = sgd, \n",
    "              metrics = [\"accuracy\"])\n"
   ]
  },
  {
   "cell_type": "code",
   "execution_count": 4,
   "metadata": {
    "collapsed": false,
    "slideshow": {
     "slide_type": "fragment"
    }
   },
   "outputs": [],
   "source": [
    "# train\n",
    "\n",
    "_ = model.fit(X_train, y_train_ohe, \n",
    "              nb_epoch = 5, \n",
    "              batch_size = 10, \n",
    "              verbose = False, # turn this on to visualize progress \n",
    "              validation_split = 0.1 # 10% of training data for validation per epoch\n",
    "             )"
   ]
  },
  {
   "cell_type": "code",
   "execution_count": 5,
   "metadata": {
    "collapsed": false,
    "slideshow": {
     "slide_type": "fragment"
    }
   },
   "outputs": [
    {
     "name": "stdout",
     "output_type": "stream",
     "text": [
      "First few predictions:  [6 1 9]\n",
      "Training accuracy: 0.43282\n",
      "Test accuracy: 0.4304\n"
     ]
    }
   ],
   "source": [
    "# evaluate\n",
    "\n",
    "y_train_pred = model.predict_classes(X_train, verbose=False)\n",
    "print('First few predictions: ', y_train_pred[:3])\n",
    "train_acc = accuracy_score(y_train, y_train_pred)\n",
    "print('Training accuracy:', train_acc)\n",
    "\n",
    "y_test_pred = model.predict_classes(X_test, verbose=False)\n",
    "test_acc = accuracy_score(y_test, y_test_pred)\n",
    "print('Test accuracy:', test_acc)\n"
   ]
  },
  {
   "cell_type": "markdown",
   "metadata": {
    "slideshow": {
     "slide_type": "subslide"
    }
   },
   "source": [
    "## Answer"
   ]
  },
  {
   "cell_type": "code",
   "execution_count": 1,
   "metadata": {
    "collapsed": false,
    "slideshow": {
     "slide_type": "fragment"
    }
   },
   "outputs": [
    {
     "name": "stderr",
     "output_type": "stream",
     "text": [
      "Using TensorFlow backend.\n"
     ]
    },
    {
     "name": "stdout",
     "output_type": "stream",
     "text": [
      "image shape:  (32, 32, 3)\n",
      "50000 training samples\n",
      "10000 test samples\n",
      "10 classes\n"
     ]
    }
   ],
   "source": [
    "# your code and experimental results\n",
    "from keras.datasets import cifar10\n",
    "from keras.utils import np_utils\n",
    "from keras.models import Sequential\n",
    "from keras.layers import Dense, Dropout, Activation, Flatten\n",
    "from keras.layers import Convolution2D, MaxPooling2D, AveragePooling2D\n",
    "from keras.optimizers import SGD\n",
    "import numpy as np\n",
    "from sklearn.metrics import accuracy_score\n",
    "\n",
    "# load data set\n",
    "(X_train, y_train), (X_test, y_test) = cifar10.load_data()\n",
    "\n",
    "img_shape = X_train.shape[1:] # [num_rows, num_cols, num_channels]\n",
    "num_img_pixels = np.prod(img_shape)\n",
    "num_training_samples = X_train.shape[0]\n",
    "num_test_samples = X_test.shape[0]\n",
    "\n",
    "nb_classes = np.sum(np.unique(y_train).shape)\n",
    "\n",
    "print('image shape: ', img_shape)\n",
    "print(X_train.shape[0], 'training samples')\n",
    "print(X_test.shape[0], 'test samples')\n",
    "print(nb_classes, 'classes')\n",
    "\n",
    "# data processing\n",
    "\n",
    "#X_train = X_train.reshape(num_training_samples, num_img_pixels)\n",
    "#X_test = X_test.reshape(num_test_samples, num_img_pixels)\n",
    "\n",
    "X_train = X_train.astype('float32')\n",
    "X_test = X_test.astype('float32')\n",
    "X_train /= 255\n",
    "X_test /= 255\n",
    "\n",
    "# one hot encoding of labels\n",
    "y_train_ohe = np_utils.to_categorical(y_train)\n",
    "y_test_ohe = np_utils.to_categorical(y_test)"
   ]
  },
  {
   "cell_type": "code",
   "execution_count": 2,
   "metadata": {
    "collapsed": true,
    "slideshow": {
     "slide_type": "fragment"
    }
   },
   "outputs": [],
   "source": [
    "from __future__ import print_function\n",
    "from keras import backend as K\n",
    "# Orthonorm init code is taked from Lasagne\n",
    "# https://github.com/Lasagne/Lasagne/blob/master/lasagne/init.py\n",
    "def svd_orthonormal(shape):\n",
    "    if len(shape) < 2:\n",
    "        raise RuntimeError(\"Only shapes of length 2 or more are supported.\")\n",
    "    flat_shape = (shape[0], np.prod(shape[1:]))\n",
    "    a = np.random.standard_normal(flat_shape)\n",
    "    u, _, v = np.linalg.svd(a, full_matrices=False)\n",
    "    q = u if u.shape == flat_shape else v\n",
    "    q = q.reshape(shape)\n",
    "    return q\n",
    "\n",
    "def get_activations(model, layer, X_batch):\n",
    "    get_activations = K.function([model.layers[0].input, K.learning_phase()], [model.layers[layer].output,])\n",
    "    activations = get_activations([X_batch,0])\n",
    "    return activations\n",
    "\n",
    "def LSUVinit(model,batch):\n",
    "    margin = 0.1\n",
    "    max_iter = 10\n",
    "    i=-1\n",
    "    for layer in model.layers:\n",
    "        i+=1\n",
    "        print(layer.get_config()['name'])\n",
    "        if (('convolution' not in layer.get_config()['name']) and 'clf' not in layer.get_config()['name'] and 'dense' not in layer.get_config()['name']):\n",
    "            continue\n",
    "        w_all=layer.get_weights();\n",
    "        weights = np.array(w_all[0])\n",
    "        weights = svd_orthonormal(weights.shape)\n",
    "        biases = np.array(w_all[1])\n",
    "        w_all_new = [weights,biases]\n",
    "        layer.set_weights(w_all_new)\n",
    "        acts1=get_activations(model,i,batch)\n",
    "        var1=np.var(acts1)\n",
    "        iter1=0\n",
    "        needed_variance = 1.0\n",
    "        print(var1)\n",
    "        while (abs(needed_variance - var1) > margin):\n",
    "            w_all=layer.get_weights();\n",
    "            weights = np.array(w_all[0])\n",
    "            biases = np.array(w_all[1])\n",
    "            weights /= np.sqrt(var1)/np.sqrt(needed_variance)\n",
    "            w_all_new = [weights,biases]\n",
    "            layer.set_weights(w_all_new)\n",
    "            acts1=get_activations(model,i,batch)\n",
    "            var1=np.var(acts1)\n",
    "            iter1+=1\n",
    "            print(var1)\n",
    "            if iter1 > max_iter:\n",
    "                break\n",
    "    return model"
   ]
  },
  {
   "cell_type": "code",
   "execution_count": 3,
   "metadata": {
    "collapsed": false,
    "slideshow": {
     "slide_type": "fragment"
    }
   },
   "outputs": [
    {
     "name": "stdout",
     "output_type": "stream",
     "text": [
      "convolution2d_1\n",
      "0.0298732\n",
      "1.0\n",
      "activation_1\n",
      "convolution2d_2\n",
      "0.0500271\n",
      "1.0\n",
      "activation_2\n",
      "convolution2d_3\n",
      "0.0386222\n",
      "1.0\n",
      "activation_3\n",
      "maxpooling2d_1\n",
      "dropout_1\n",
      "convolution2d_4\n",
      "0.0237685\n",
      "1.0\n",
      "activation_4\n",
      "convolution2d_5\n",
      "0.0196425\n",
      "1.0\n",
      "activation_5\n",
      "maxpooling2d_2\n",
      "dropout_2\n",
      "convolution2d_6\n",
      "0.0118312\n",
      "1.0\n",
      "activation_6\n",
      "convolution2d_7\n",
      "0.0103933\n",
      "1.0\n",
      "activation_7\n",
      "convolution2d_8\n",
      "0.00914927\n",
      "1.0\n",
      "activation_8\n",
      "averagepooling2d_1\n",
      "dropout_3\n",
      "flatten_1\n",
      "dense_1\n",
      "0.113806\n",
      "1.0\n",
      "activation_9\n",
      "dropout_4\n",
      "dense_2\n",
      "0.274083\n",
      "1.0\n",
      "activation_10\n"
     ]
    }
   ],
   "source": [
    "#2nd best model\n",
    "model = Sequential()\n",
    "\n",
    "model.add(Convolution2D(32, 3, 3, border_mode='same', input_shape=X_train.shape[1:]))\n",
    "model.add(Activation('relu'))\n",
    "model.add(Convolution2D(32, 3, 3))\n",
    "model.add(Activation('relu'))\n",
    "model.add(Convolution2D(32, 3, 3))\n",
    "model.add(Activation('relu'))\n",
    "model.add(MaxPooling2D(pool_size=(2, 2)))\n",
    "model.add(Dropout(0.5))\n",
    "\n",
    "model.add(Convolution2D(80, 3, 3, border_mode='same'))\n",
    "model.add(Activation('relu'))\n",
    "model.add(Convolution2D(80, 3, 3))\n",
    "model.add(Activation('relu'))\n",
    "model.add(MaxPooling2D(pool_size=(2, 2)))\n",
    "model.add(Dropout(0.5))\n",
    "\n",
    "model.add(Convolution2D(128, 3, 3, border_mode='same'))\n",
    "model.add(Activation('relu'))\n",
    "model.add(Convolution2D(128, 3, 3))\n",
    "model.add(Activation('relu'))\n",
    "model.add(Convolution2D(128, 3, 3))\n",
    "model.add(Activation('relu'))\n",
    "model.add(AveragePooling2D(pool_size=(2, 2)))\n",
    "model.add(Dropout(0.5))\n",
    "\n",
    "model.add(Flatten())\n",
    "model.add(Dense(512))\n",
    "model.add(Activation('relu'))\n",
    "model.add(Dropout(0.5))\n",
    "model.add(Dense(nb_classes))\n",
    "model.add(Activation('softmax'))\n",
    "\n",
    "sgd = SGD(lr=0.001, decay=1e-7, momentum=.9)\n",
    "\n",
    "model.compile(loss = 'categorical_crossentropy', \n",
    "              optimizer = sgd, \n",
    "              metrics = [\"accuracy\"])\n",
    "\n",
    "batch_size = 128\n",
    "model = LSUVinit(model,X_train[:batch_size,:,:,:]) "
   ]
  },
  {
   "cell_type": "code",
   "execution_count": 4,
   "metadata": {
    "collapsed": false,
    "slideshow": {
     "slide_type": "fragment"
    }
   },
   "outputs": [
    {
     "name": "stdout",
     "output_type": "stream",
     "text": [
      "Train on 45000 samples, validate on 5000 samples\n",
      "Epoch 1/200\n",
      "45000/45000 [==============================] - 228s - loss: 2.2101 - acc: 0.1540 - val_loss: 2.1479 - val_acc: 0.1620\n",
      "Epoch 2/200\n",
      "45000/45000 [==============================] - 229s - loss: 1.9960 - acc: 0.2050 - val_loss: 1.9828 - val_acc: 0.2316\n",
      "Epoch 3/200\n",
      "45000/45000 [==============================] - 229s - loss: 1.8980 - acc: 0.2509 - val_loss: 1.8847 - val_acc: 0.2970\n",
      "Epoch 4/200\n",
      "45000/45000 [==============================] - 229s - loss: 1.8015 - acc: 0.3020 - val_loss: 1.8766 - val_acc: 0.3312\n",
      "Epoch 5/200\n",
      "45000/45000 [==============================] - 232s - loss: 1.7082 - acc: 0.3517 - val_loss: 1.6738 - val_acc: 0.3970\n",
      "Epoch 6/200\n",
      "45000/45000 [==============================] - 231s - loss: 1.6436 - acc: 0.3811 - val_loss: 1.7814 - val_acc: 0.3678\n",
      "Epoch 7/200\n",
      "45000/45000 [==============================] - 231s - loss: 1.5916 - acc: 0.4068 - val_loss: 1.5480 - val_acc: 0.4360\n",
      "Epoch 8/200\n",
      "45000/45000 [==============================] - 232s - loss: 1.5426 - acc: 0.4319 - val_loss: 1.6795 - val_acc: 0.4044\n",
      "Epoch 9/200\n",
      "45000/45000 [==============================] - 232s - loss: 1.4939 - acc: 0.4534 - val_loss: 1.4393 - val_acc: 0.4882\n",
      "Epoch 10/200\n",
      "45000/45000 [==============================] - 231s - loss: 1.4565 - acc: 0.4717 - val_loss: 1.4153 - val_acc: 0.4992\n",
      "Epoch 11/200\n",
      "45000/45000 [==============================] - 231s - loss: 1.4101 - acc: 0.4913 - val_loss: 1.2964 - val_acc: 0.5350\n",
      "Epoch 12/200\n",
      "45000/45000 [==============================] - 232s - loss: 1.3694 - acc: 0.5086 - val_loss: 1.3398 - val_acc: 0.5200\n",
      "Epoch 13/200\n",
      "45000/45000 [==============================] - 232s - loss: 1.3351 - acc: 0.5236 - val_loss: 1.3027 - val_acc: 0.5308\n",
      "Epoch 14/200\n",
      "45000/45000 [==============================] - 231s - loss: 1.2990 - acc: 0.5356 - val_loss: 1.2087 - val_acc: 0.5788\n",
      "Epoch 15/200\n",
      "45000/45000 [==============================] - 231s - loss: 1.2638 - acc: 0.5520 - val_loss: 1.0749 - val_acc: 0.6190\n",
      "Epoch 16/200\n",
      "45000/45000 [==============================] - 231s - loss: 1.2376 - acc: 0.5612 - val_loss: 1.0619 - val_acc: 0.6242\n",
      "Epoch 17/200\n",
      "45000/45000 [==============================] - 232s - loss: 1.2061 - acc: 0.5763 - val_loss: 1.1520 - val_acc: 0.5998\n",
      "Epoch 18/200\n",
      "45000/45000 [==============================] - 232s - loss: 1.1839 - acc: 0.5818 - val_loss: 1.2083 - val_acc: 0.5784\n",
      "Epoch 19/200\n",
      "45000/45000 [==============================] - 233s - loss: 1.1565 - acc: 0.5953 - val_loss: 1.0055 - val_acc: 0.6450\n",
      "Epoch 20/200\n",
      "45000/45000 [==============================] - 232s - loss: 1.1373 - acc: 0.6039 - val_loss: 1.0299 - val_acc: 0.6360\n",
      "Epoch 21/200\n",
      "45000/45000 [==============================] - 232s - loss: 1.1157 - acc: 0.6072 - val_loss: 1.0224 - val_acc: 0.6420\n",
      "Epoch 22/200\n",
      "45000/45000 [==============================] - 231s - loss: 1.0941 - acc: 0.6199 - val_loss: 0.9961 - val_acc: 0.6514\n",
      "Epoch 23/200\n",
      "45000/45000 [==============================] - 232s - loss: 1.0665 - acc: 0.6261 - val_loss: 1.0126 - val_acc: 0.6386\n",
      "Epoch 24/200\n",
      "45000/45000 [==============================] - 232s - loss: 1.0534 - acc: 0.6345 - val_loss: 0.9246 - val_acc: 0.6742\n",
      "Epoch 25/200\n",
      "45000/45000 [==============================] - 232s - loss: 1.0360 - acc: 0.6391 - val_loss: 0.8803 - val_acc: 0.6902\n",
      "Epoch 26/200\n",
      "45000/45000 [==============================] - 232s - loss: 1.0165 - acc: 0.6472 - val_loss: 0.8881 - val_acc: 0.6926\n",
      "Epoch 27/200\n",
      "45000/45000 [==============================] - 232s - loss: 0.9970 - acc: 0.6538 - val_loss: 0.8488 - val_acc: 0.7032\n",
      "Epoch 28/200\n",
      "45000/45000 [==============================] - 232s - loss: 0.9818 - acc: 0.6621 - val_loss: 0.8686 - val_acc: 0.6946\n",
      "Epoch 29/200\n",
      "45000/45000 [==============================] - 231s - loss: 0.9654 - acc: 0.6643 - val_loss: 0.8616 - val_acc: 0.6938\n",
      "Epoch 30/200\n",
      "45000/45000 [==============================] - 231s - loss: 0.9454 - acc: 0.6719 - val_loss: 0.8578 - val_acc: 0.6982\n",
      "Epoch 31/200\n",
      "45000/45000 [==============================] - 232s - loss: 0.9339 - acc: 0.6775 - val_loss: 0.8286 - val_acc: 0.7080\n",
      "Epoch 32/200\n",
      "45000/45000 [==============================] - 234s - loss: 0.9220 - acc: 0.6830 - val_loss: 0.8307 - val_acc: 0.7124\n",
      "Epoch 33/200\n",
      "45000/45000 [==============================] - 231s - loss: 0.9117 - acc: 0.6880 - val_loss: 0.7690 - val_acc: 0.7270\n",
      "Epoch 34/200\n",
      "45000/45000 [==============================] - 231s - loss: 0.8951 - acc: 0.6911 - val_loss: 0.8048 - val_acc: 0.7152\n",
      "Epoch 35/200\n",
      "45000/45000 [==============================] - 231s - loss: 0.8781 - acc: 0.6993 - val_loss: 0.8037 - val_acc: 0.7242\n",
      "Epoch 36/200\n",
      "45000/45000 [==============================] - 231s - loss: 0.8698 - acc: 0.7010 - val_loss: 0.7296 - val_acc: 0.7462\n",
      "Epoch 37/200\n",
      "45000/45000 [==============================] - 232s - loss: 0.8574 - acc: 0.7044 - val_loss: 0.8017 - val_acc: 0.7202\n",
      "Epoch 38/200\n",
      "45000/45000 [==============================] - 232s - loss: 0.8451 - acc: 0.7099 - val_loss: 0.7954 - val_acc: 0.7284\n",
      "Epoch 39/200\n",
      "45000/45000 [==============================] - 232s - loss: 0.8387 - acc: 0.7136 - val_loss: 0.9092 - val_acc: 0.6866\n",
      "Epoch 40/200\n",
      "45000/45000 [==============================] - 232s - loss: 0.8208 - acc: 0.7186 - val_loss: 0.6972 - val_acc: 0.7566\n",
      "Epoch 41/200\n",
      "45000/45000 [==============================] - 232s - loss: 0.8183 - acc: 0.7226 - val_loss: 0.7038 - val_acc: 0.7584\n",
      "Epoch 42/200\n",
      "45000/45000 [==============================] - 232s - loss: 0.8110 - acc: 0.7234 - val_loss: 0.7389 - val_acc: 0.7402\n",
      "Epoch 43/200\n",
      "45000/45000 [==============================] - 232s - loss: 0.7933 - acc: 0.7290 - val_loss: 0.7177 - val_acc: 0.7594\n",
      "Epoch 44/200\n",
      "45000/45000 [==============================] - 232s - loss: 0.7886 - acc: 0.7312 - val_loss: 0.7224 - val_acc: 0.7488\n",
      "Epoch 45/200\n",
      "45000/45000 [==============================] - 231s - loss: 0.7806 - acc: 0.7313 - val_loss: 0.6510 - val_acc: 0.7740\n",
      "Epoch 46/200\n",
      "45000/45000 [==============================] - 232s - loss: 0.7748 - acc: 0.7370 - val_loss: 0.6714 - val_acc: 0.7680\n",
      "Epoch 47/200\n",
      "45000/45000 [==============================] - 232s - loss: 0.7629 - acc: 0.7401 - val_loss: 0.7135 - val_acc: 0.7536\n",
      "Epoch 48/200\n",
      "45000/45000 [==============================] - 232s - loss: 0.7619 - acc: 0.7380 - val_loss: 0.6549 - val_acc: 0.7748\n",
      "Epoch 49/200\n",
      "45000/45000 [==============================] - 232s - loss: 0.7421 - acc: 0.7476 - val_loss: 0.7086 - val_acc: 0.7620\n",
      "Epoch 50/200\n",
      "45000/45000 [==============================] - 232s - loss: 0.7321 - acc: 0.7497 - val_loss: 0.6542 - val_acc: 0.7796\n",
      "Epoch 51/200\n",
      "45000/45000 [==============================] - 232s - loss: 0.7298 - acc: 0.7517 - val_loss: 0.6977 - val_acc: 0.7638\n",
      "Epoch 52/200\n",
      "45000/45000 [==============================] - 231s - loss: 0.7253 - acc: 0.7538 - val_loss: 0.6787 - val_acc: 0.7702\n",
      "Epoch 53/200\n",
      "45000/45000 [==============================] - 232s - loss: 0.7146 - acc: 0.7549 - val_loss: 0.6261 - val_acc: 0.7818\n",
      "Epoch 54/200\n",
      "45000/45000 [==============================] - 232s - loss: 0.7087 - acc: 0.7571 - val_loss: 0.6518 - val_acc: 0.7756\n",
      "Epoch 55/200\n",
      "45000/45000 [==============================] - 232s - loss: 0.7013 - acc: 0.7607 - val_loss: 0.6769 - val_acc: 0.7658\n",
      "Epoch 56/200\n",
      "45000/45000 [==============================] - 231s - loss: 0.6982 - acc: 0.7620 - val_loss: 0.6416 - val_acc: 0.7790\n",
      "Epoch 57/200\n",
      "45000/45000 [==============================] - 232s - loss: 0.6891 - acc: 0.7658 - val_loss: 0.6186 - val_acc: 0.7880\n",
      "Epoch 58/200\n",
      "45000/45000 [==============================] - 232s - loss: 0.6843 - acc: 0.7684 - val_loss: 0.6061 - val_acc: 0.7890\n",
      "Epoch 59/200\n",
      "45000/45000 [==============================] - 231s - loss: 0.6774 - acc: 0.7690 - val_loss: 0.6369 - val_acc: 0.7812\n",
      "Epoch 60/200\n",
      "45000/45000 [==============================] - 232s - loss: 0.6718 - acc: 0.7704 - val_loss: 0.6147 - val_acc: 0.7902\n",
      "Epoch 61/200\n",
      "45000/45000 [==============================] - 231s - loss: 0.6700 - acc: 0.7713 - val_loss: 0.6516 - val_acc: 0.7780\n",
      "Epoch 62/200\n",
      "45000/45000 [==============================] - 231s - loss: 0.6646 - acc: 0.7700 - val_loss: 0.6256 - val_acc: 0.7874\n",
      "Epoch 63/200\n",
      "45000/45000 [==============================] - 232s - loss: 0.6604 - acc: 0.7754 - val_loss: 0.5933 - val_acc: 0.7970\n",
      "Epoch 64/200\n",
      "45000/45000 [==============================] - 231s - loss: 0.6485 - acc: 0.7794 - val_loss: 0.6373 - val_acc: 0.7808\n",
      "Epoch 65/200\n",
      "45000/45000 [==============================] - 231s - loss: 0.6477 - acc: 0.7807 - val_loss: 0.5680 - val_acc: 0.8040\n",
      "Epoch 66/200\n",
      "45000/45000 [==============================] - 231s - loss: 0.6380 - acc: 0.7849 - val_loss: 0.5920 - val_acc: 0.8002\n",
      "Epoch 67/200\n",
      "45000/45000 [==============================] - 231s - loss: 0.6386 - acc: 0.7812 - val_loss: 0.6492 - val_acc: 0.7824\n",
      "Epoch 68/200\n",
      "45000/45000 [==============================] - 231s - loss: 0.6301 - acc: 0.7855 - val_loss: 0.6078 - val_acc: 0.7932\n",
      "Epoch 69/200\n",
      "45000/45000 [==============================] - 231s - loss: 0.6273 - acc: 0.7862 - val_loss: 0.5764 - val_acc: 0.8046\n",
      "Epoch 70/200\n",
      "45000/45000 [==============================] - 230s - loss: 0.6199 - acc: 0.7884 - val_loss: 0.6043 - val_acc: 0.7946\n",
      "Epoch 71/200\n",
      "45000/45000 [==============================] - 231s - loss: 0.6157 - acc: 0.7916 - val_loss: 0.5929 - val_acc: 0.7970\n",
      "Epoch 72/200\n",
      "45000/45000 [==============================] - 231s - loss: 0.6119 - acc: 0.7911 - val_loss: 0.5916 - val_acc: 0.7976\n",
      "Epoch 73/200\n",
      "45000/45000 [==============================] - 231s - loss: 0.6060 - acc: 0.7949 - val_loss: 0.5601 - val_acc: 0.8122\n",
      "Epoch 74/200\n",
      "45000/45000 [==============================] - 232s - loss: 0.5989 - acc: 0.7947 - val_loss: 0.5796 - val_acc: 0.8070\n",
      "Epoch 75/200\n",
      "45000/45000 [==============================] - 232s - loss: 0.5943 - acc: 0.7984 - val_loss: 0.5631 - val_acc: 0.8066\n",
      "Epoch 76/200\n",
      "45000/45000 [==============================] - 231s - loss: 0.5933 - acc: 0.7955 - val_loss: 0.5726 - val_acc: 0.8060\n",
      "Epoch 77/200\n",
      "45000/45000 [==============================] - 231s - loss: 0.5903 - acc: 0.7996 - val_loss: 0.5457 - val_acc: 0.8180\n",
      "Epoch 78/200\n",
      "45000/45000 [==============================] - 232s - loss: 0.5898 - acc: 0.7996 - val_loss: 0.5668 - val_acc: 0.8124\n",
      "Epoch 79/200\n",
      "45000/45000 [==============================] - 231s - loss: 0.5818 - acc: 0.8024 - val_loss: 0.5807 - val_acc: 0.8058\n",
      "Epoch 80/200\n",
      "45000/45000 [==============================] - 232s - loss: 0.5773 - acc: 0.8024 - val_loss: 0.5944 - val_acc: 0.7982\n",
      "Epoch 81/200\n",
      "45000/45000 [==============================] - 231s - loss: 0.5744 - acc: 0.8043 - val_loss: 0.5433 - val_acc: 0.8138\n",
      "Epoch 82/200\n",
      "45000/45000 [==============================] - 231s - loss: 0.5687 - acc: 0.8071 - val_loss: 0.5412 - val_acc: 0.8160\n",
      "Epoch 83/200\n",
      "45000/45000 [==============================] - 230s - loss: 0.5656 - acc: 0.8084 - val_loss: 0.5337 - val_acc: 0.8186\n",
      "Epoch 84/200\n",
      "45000/45000 [==============================] - 230s - loss: 0.5579 - acc: 0.8097 - val_loss: 0.5532 - val_acc: 0.8150\n",
      "Epoch 85/200\n",
      "45000/45000 [==============================] - 231s - loss: 0.5551 - acc: 0.8122 - val_loss: 0.5247 - val_acc: 0.8212\n",
      "Epoch 86/200\n",
      "45000/45000 [==============================] - 231s - loss: 0.5523 - acc: 0.8113 - val_loss: 0.5476 - val_acc: 0.8130\n",
      "Epoch 87/200\n",
      "45000/45000 [==============================] - 230s - loss: 0.5422 - acc: 0.8145 - val_loss: 0.5285 - val_acc: 0.8188\n",
      "Epoch 88/200\n",
      "45000/45000 [==============================] - 231s - loss: 0.5416 - acc: 0.8139 - val_loss: 0.5201 - val_acc: 0.8258\n",
      "Epoch 89/200\n",
      "45000/45000 [==============================] - 231s - loss: 0.5425 - acc: 0.8155 - val_loss: 0.5401 - val_acc: 0.8160\n",
      "Epoch 90/200\n",
      "45000/45000 [==============================] - 232s - loss: 0.5424 - acc: 0.8136 - val_loss: 0.5556 - val_acc: 0.8082\n",
      "Epoch 91/200\n",
      "45000/45000 [==============================] - 232s - loss: 0.5342 - acc: 0.8158 - val_loss: 0.5238 - val_acc: 0.8198\n",
      "Epoch 92/200\n",
      "45000/45000 [==============================] - 231s - loss: 0.5318 - acc: 0.8190 - val_loss: 0.5823 - val_acc: 0.8092\n",
      "Epoch 93/200\n",
      "45000/45000 [==============================] - 232s - loss: 0.5309 - acc: 0.8192 - val_loss: 0.5519 - val_acc: 0.8130\n",
      "Epoch 94/200\n",
      "45000/45000 [==============================] - 232s - loss: 0.5237 - acc: 0.8211 - val_loss: 0.5319 - val_acc: 0.8194\n",
      "Epoch 95/200\n",
      "45000/45000 [==============================] - 232s - loss: 0.5175 - acc: 0.8227 - val_loss: 0.5194 - val_acc: 0.8212\n",
      "Epoch 96/200\n",
      "45000/45000 [==============================] - 232s - loss: 0.5186 - acc: 0.8222 - val_loss: 0.5293 - val_acc: 0.8236\n",
      "Epoch 97/200\n",
      "45000/45000 [==============================] - 232s - loss: 0.5159 - acc: 0.8244 - val_loss: 0.5305 - val_acc: 0.8252\n",
      "Epoch 98/200\n",
      "45000/45000 [==============================] - 232s - loss: 0.5105 - acc: 0.8253 - val_loss: 0.5092 - val_acc: 0.8260\n",
      "Epoch 99/200\n",
      "45000/45000 [==============================] - 231s - loss: 0.5063 - acc: 0.8270 - val_loss: 0.5587 - val_acc: 0.8132\n",
      "Epoch 100/200\n",
      "45000/45000 [==============================] - 231s - loss: 0.5109 - acc: 0.8245 - val_loss: 0.5471 - val_acc: 0.8154\n",
      "Epoch 101/200\n",
      "45000/45000 [==============================] - 231s - loss: 0.5020 - acc: 0.8259 - val_loss: 0.5032 - val_acc: 0.8236\n",
      "Epoch 102/200\n",
      "45000/45000 [==============================] - 230s - loss: 0.4952 - acc: 0.8302 - val_loss: 0.5207 - val_acc: 0.8224\n",
      "Epoch 103/200\n",
      "45000/45000 [==============================] - 231s - loss: 0.4993 - acc: 0.8294 - val_loss: 0.5165 - val_acc: 0.8234\n",
      "Epoch 104/200\n",
      "45000/45000 [==============================] - 232s - loss: 0.4926 - acc: 0.8314 - val_loss: 0.5067 - val_acc: 0.8276\n",
      "Epoch 105/200\n",
      "45000/45000 [==============================] - 232s - loss: 0.4942 - acc: 0.8299 - val_loss: 0.5019 - val_acc: 0.8284\n",
      "Epoch 106/200\n",
      "45000/45000 [==============================] - 231s - loss: 0.4911 - acc: 0.8326 - val_loss: 0.5114 - val_acc: 0.8198\n",
      "Epoch 107/200\n",
      "45000/45000 [==============================] - 232s - loss: 0.4829 - acc: 0.8357 - val_loss: 0.5009 - val_acc: 0.8262\n",
      "Epoch 108/200\n",
      "45000/45000 [==============================] - 232s - loss: 0.4821 - acc: 0.8349 - val_loss: 0.4842 - val_acc: 0.8318\n",
      "Epoch 109/200\n",
      "45000/45000 [==============================] - 231s - loss: 0.4823 - acc: 0.8353 - val_loss: 0.5592 - val_acc: 0.8158\n",
      "Epoch 110/200\n",
      "45000/45000 [==============================] - 232s - loss: 0.4778 - acc: 0.8349 - val_loss: 0.4926 - val_acc: 0.8296\n",
      "Epoch 111/200\n",
      "45000/45000 [==============================] - 232s - loss: 0.4733 - acc: 0.8376 - val_loss: 0.5073 - val_acc: 0.8300\n",
      "Epoch 112/200\n",
      "45000/45000 [==============================] - 232s - loss: 0.4721 - acc: 0.8379 - val_loss: 0.4829 - val_acc: 0.8290\n",
      "Epoch 113/200\n",
      "45000/45000 [==============================] - 231s - loss: 0.4649 - acc: 0.8416 - val_loss: 0.5388 - val_acc: 0.8214\n",
      "Epoch 114/200\n",
      "45000/45000 [==============================] - 232s - loss: 0.4671 - acc: 0.8406 - val_loss: 0.4771 - val_acc: 0.8334\n",
      "Epoch 115/200\n",
      "45000/45000 [==============================] - 232s - loss: 0.4627 - acc: 0.8414 - val_loss: 0.5023 - val_acc: 0.8294\n",
      "Epoch 116/200\n",
      "45000/45000 [==============================] - 231s - loss: 0.4676 - acc: 0.8407 - val_loss: 0.5223 - val_acc: 0.8236\n",
      "Epoch 117/200\n",
      "45000/45000 [==============================] - 232s - loss: 0.4547 - acc: 0.8449 - val_loss: 0.4777 - val_acc: 0.8400\n",
      "Epoch 118/200\n",
      "45000/45000 [==============================] - 230s - loss: 0.4520 - acc: 0.8466 - val_loss: 0.5101 - val_acc: 0.8338\n",
      "Epoch 119/200\n",
      "45000/45000 [==============================] - 231s - loss: 0.4519 - acc: 0.8478 - val_loss: 0.5013 - val_acc: 0.8310\n",
      "Epoch 120/200\n",
      "45000/45000 [==============================] - 231s - loss: 0.4520 - acc: 0.8451 - val_loss: 0.5053 - val_acc: 0.8296\n",
      "Epoch 121/200\n",
      "45000/45000 [==============================] - 230s - loss: 0.4432 - acc: 0.8489 - val_loss: 0.5078 - val_acc: 0.8280\n",
      "Epoch 122/200\n",
      "45000/45000 [==============================] - 231s - loss: 0.4416 - acc: 0.8491 - val_loss: 0.4890 - val_acc: 0.8304\n",
      "Epoch 123/200\n",
      "45000/45000 [==============================] - 231s - loss: 0.4456 - acc: 0.8470 - val_loss: 0.5045 - val_acc: 0.8256\n",
      "Epoch 124/200\n",
      "45000/45000 [==============================] - 232s - loss: 0.4430 - acc: 0.8497 - val_loss: 0.5068 - val_acc: 0.8306\n",
      "Epoch 125/200\n",
      "45000/45000 [==============================] - 232s - loss: 0.4337 - acc: 0.8515 - val_loss: 0.4921 - val_acc: 0.8324\n",
      "Epoch 126/200\n",
      "45000/45000 [==============================] - 232s - loss: 0.4337 - acc: 0.8523 - val_loss: 0.4957 - val_acc: 0.8296\n",
      "Epoch 127/200\n",
      "45000/45000 [==============================] - 232s - loss: 0.4302 - acc: 0.8502 - val_loss: 0.4889 - val_acc: 0.8322\n",
      "Epoch 128/200\n",
      "45000/45000 [==============================] - 232s - loss: 0.4315 - acc: 0.8521 - val_loss: 0.4705 - val_acc: 0.8420\n",
      "Epoch 129/200\n",
      "45000/45000 [==============================] - 232s - loss: 0.4277 - acc: 0.8529 - val_loss: 0.4867 - val_acc: 0.8390\n",
      "Epoch 130/200\n",
      "45000/45000 [==============================] - 232s - loss: 0.4260 - acc: 0.8554 - val_loss: 0.4752 - val_acc: 0.8368\n",
      "Epoch 131/200\n",
      "45000/45000 [==============================] - 231s - loss: 0.4276 - acc: 0.8552 - val_loss: 0.5043 - val_acc: 0.8308\n",
      "Epoch 132/200\n",
      "45000/45000 [==============================] - 232s - loss: 0.4152 - acc: 0.8561 - val_loss: 0.4827 - val_acc: 0.8360\n",
      "Epoch 133/200\n",
      "45000/45000 [==============================] - 230s - loss: 0.4195 - acc: 0.8553 - val_loss: 0.4944 - val_acc: 0.8344\n",
      "Epoch 134/200\n",
      "45000/45000 [==============================] - 231s - loss: 0.4164 - acc: 0.8560 - val_loss: 0.4897 - val_acc: 0.8342\n",
      "Epoch 135/200\n",
      "45000/45000 [==============================] - 230s - loss: 0.4186 - acc: 0.8562 - val_loss: 0.4764 - val_acc: 0.8404\n",
      "Epoch 136/200\n",
      "45000/45000 [==============================] - 231s - loss: 0.4161 - acc: 0.8586 - val_loss: 0.4921 - val_acc: 0.8386\n",
      "Epoch 137/200\n",
      "45000/45000 [==============================] - 232s - loss: 0.4102 - acc: 0.8591 - val_loss: 0.4757 - val_acc: 0.8394\n",
      "Epoch 138/200\n",
      "45000/45000 [==============================] - 233s - loss: 0.4052 - acc: 0.8596 - val_loss: 0.4755 - val_acc: 0.8374\n",
      "Epoch 139/200\n",
      "45000/45000 [==============================] - 232s - loss: 0.4036 - acc: 0.8649 - val_loss: 0.4585 - val_acc: 0.8462\n",
      "Epoch 140/200\n",
      "45000/45000 [==============================] - 232s - loss: 0.4018 - acc: 0.8619 - val_loss: 0.4846 - val_acc: 0.8336\n",
      "Epoch 141/200\n",
      "45000/45000 [==============================] - 232s - loss: 0.4022 - acc: 0.8636 - val_loss: 0.4911 - val_acc: 0.8330\n",
      "Epoch 142/200\n",
      "45000/45000 [==============================] - 232s - loss: 0.4052 - acc: 0.8619 - val_loss: 0.4730 - val_acc: 0.8368\n",
      "Epoch 143/200\n",
      "45000/45000 [==============================] - 231s - loss: 0.4026 - acc: 0.8625 - val_loss: 0.4983 - val_acc: 0.8300\n",
      "Epoch 144/200\n",
      "45000/45000 [==============================] - 232s - loss: 0.4050 - acc: 0.8616 - val_loss: 0.4805 - val_acc: 0.8404\n",
      "Epoch 145/200\n",
      "45000/45000 [==============================] - 232s - loss: 0.3951 - acc: 0.8644 - val_loss: 0.4747 - val_acc: 0.8416\n",
      "Epoch 146/200\n",
      "45000/45000 [==============================] - 232s - loss: 0.3904 - acc: 0.8656 - val_loss: 0.4697 - val_acc: 0.8434\n",
      "Epoch 147/200\n",
      "45000/45000 [==============================] - 232s - loss: 0.3893 - acc: 0.8655 - val_loss: 0.4807 - val_acc: 0.8412\n",
      "Epoch 148/200\n",
      "45000/45000 [==============================] - 231s - loss: 0.3941 - acc: 0.8646 - val_loss: 0.4823 - val_acc: 0.8366\n",
      "Epoch 149/200\n",
      "45000/45000 [==============================] - 230s - loss: 0.3820 - acc: 0.8699 - val_loss: 0.5055 - val_acc: 0.8320\n",
      "Epoch 150/200\n",
      "45000/45000 [==============================] - 232s - loss: 0.3827 - acc: 0.8696 - val_loss: 0.4960 - val_acc: 0.8342\n",
      "Epoch 151/200\n",
      "45000/45000 [==============================] - 232s - loss: 0.3860 - acc: 0.8685 - val_loss: 0.4704 - val_acc: 0.8446\n",
      "Epoch 152/200\n",
      "45000/45000 [==============================] - 232s - loss: 0.3799 - acc: 0.8691 - val_loss: 0.4680 - val_acc: 0.8444\n",
      "Epoch 153/200\n",
      "45000/45000 [==============================] - 232s - loss: 0.3805 - acc: 0.8684 - val_loss: 0.4899 - val_acc: 0.8360\n",
      "Epoch 154/200\n",
      "45000/45000 [==============================] - 232s - loss: 0.3775 - acc: 0.8698 - val_loss: 0.4577 - val_acc: 0.8428\n",
      "Epoch 155/200\n",
      "45000/45000 [==============================] - 232s - loss: 0.3799 - acc: 0.8692 - val_loss: 0.4563 - val_acc: 0.8438\n",
      "Epoch 156/200\n",
      "45000/45000 [==============================] - 232s - loss: 0.3678 - acc: 0.8735 - val_loss: 0.4709 - val_acc: 0.8436\n",
      "Epoch 157/200\n",
      "45000/45000 [==============================] - 231s - loss: 0.3722 - acc: 0.8725 - val_loss: 0.4747 - val_acc: 0.8432\n",
      "Epoch 158/200\n",
      "45000/45000 [==============================] - 232s - loss: 0.3643 - acc: 0.8755 - val_loss: 0.4810 - val_acc: 0.8402\n",
      "Epoch 159/200\n",
      "45000/45000 [==============================] - 231s - loss: 0.3729 - acc: 0.8716 - val_loss: 0.4716 - val_acc: 0.8428\n",
      "Epoch 160/200\n",
      "45000/45000 [==============================] - 232s - loss: 0.3635 - acc: 0.8753 - val_loss: 0.5023 - val_acc: 0.8356\n",
      "Epoch 161/200\n",
      "45000/45000 [==============================] - 232s - loss: 0.3743 - acc: 0.8700 - val_loss: 0.4775 - val_acc: 0.8356\n",
      "Epoch 162/200\n",
      "45000/45000 [==============================] - 232s - loss: 0.3621 - acc: 0.8760 - val_loss: 0.4750 - val_acc: 0.8384\n",
      "Epoch 163/200\n",
      "45000/45000 [==============================] - 232s - loss: 0.3692 - acc: 0.8739 - val_loss: 0.4523 - val_acc: 0.8470\n",
      "Epoch 164/200\n",
      "45000/45000 [==============================] - 232s - loss: 0.3602 - acc: 0.8751 - val_loss: 0.4675 - val_acc: 0.8430\n",
      "Epoch 165/200\n",
      "45000/45000 [==============================] - 232s - loss: 0.3566 - acc: 0.8775 - val_loss: 0.4878 - val_acc: 0.8410\n",
      "Epoch 166/200\n",
      "45000/45000 [==============================] - 231s - loss: 0.3619 - acc: 0.8767 - val_loss: 0.4698 - val_acc: 0.8432\n",
      "Epoch 167/200\n",
      "45000/45000 [==============================] - 231s - loss: 0.3541 - acc: 0.8760 - val_loss: 0.4544 - val_acc: 0.8454\n",
      "Epoch 168/200\n",
      "45000/45000 [==============================] - 231s - loss: 0.3599 - acc: 0.8769 - val_loss: 0.4777 - val_acc: 0.8352\n",
      "Epoch 169/200\n",
      "45000/45000 [==============================] - 232s - loss: 0.3598 - acc: 0.8769 - val_loss: 0.4816 - val_acc: 0.8424\n",
      "Epoch 170/200\n",
      "45000/45000 [==============================] - 231s - loss: 0.3506 - acc: 0.8786 - val_loss: 0.4812 - val_acc: 0.8378\n",
      "Epoch 171/200\n",
      "45000/45000 [==============================] - 231s - loss: 0.3435 - acc: 0.8803 - val_loss: 0.4841 - val_acc: 0.8364\n",
      "Epoch 172/200\n",
      "45000/45000 [==============================] - 231s - loss: 0.3506 - acc: 0.8784 - val_loss: 0.4710 - val_acc: 0.8406\n",
      "Epoch 173/200\n",
      "45000/45000 [==============================] - 231s - loss: 0.3462 - acc: 0.8793 - val_loss: 0.4805 - val_acc: 0.8418\n",
      "Epoch 174/200\n",
      "45000/45000 [==============================] - 231s - loss: 0.3450 - acc: 0.8807 - val_loss: 0.4716 - val_acc: 0.8414\n",
      "Epoch 175/200\n",
      "45000/45000 [==============================] - 233s - loss: 0.3448 - acc: 0.8811 - val_loss: 0.4728 - val_acc: 0.8476\n",
      "Epoch 176/200\n",
      "45000/45000 [==============================] - 232s - loss: 0.3387 - acc: 0.8828 - val_loss: 0.4800 - val_acc: 0.8412\n",
      "Epoch 177/200\n",
      "45000/45000 [==============================] - 232s - loss: 0.3434 - acc: 0.8819 - val_loss: 0.4631 - val_acc: 0.8442\n",
      "Epoch 178/200\n",
      "45000/45000 [==============================] - 231s - loss: 0.3415 - acc: 0.8826 - val_loss: 0.4544 - val_acc: 0.8454\n",
      "Epoch 179/200\n",
      "45000/45000 [==============================] - 232s - loss: 0.3434 - acc: 0.8823 - val_loss: 0.4521 - val_acc: 0.8490\n",
      "Epoch 180/200\n",
      "45000/45000 [==============================] - 231s - loss: 0.3274 - acc: 0.8884 - val_loss: 0.4725 - val_acc: 0.8436\n",
      "Epoch 181/200\n",
      "45000/45000 [==============================] - 231s - loss: 0.3337 - acc: 0.8842 - val_loss: 0.4849 - val_acc: 0.8384\n",
      "Epoch 182/200\n",
      "45000/45000 [==============================] - 231s - loss: 0.3313 - acc: 0.8840 - val_loss: 0.4993 - val_acc: 0.8370\n",
      "Epoch 183/200\n",
      "45000/45000 [==============================] - 231s - loss: 0.3364 - acc: 0.8832 - val_loss: 0.4912 - val_acc: 0.8366\n",
      "Epoch 184/200\n",
      "45000/45000 [==============================] - 231s - loss: 0.3300 - acc: 0.8876 - val_loss: 0.4939 - val_acc: 0.8344\n",
      "Epoch 185/200\n",
      "45000/45000 [==============================] - 231s - loss: 0.3251 - acc: 0.8879 - val_loss: 0.4692 - val_acc: 0.8412\n",
      "Epoch 186/200\n",
      "45000/45000 [==============================] - 231s - loss: 0.3324 - acc: 0.8846 - val_loss: 0.4562 - val_acc: 0.8448\n",
      "Epoch 187/200\n",
      "45000/45000 [==============================] - 231s - loss: 0.3286 - acc: 0.8884 - val_loss: 0.4623 - val_acc: 0.8480\n",
      "Epoch 188/200\n",
      "45000/45000 [==============================] - 233s - loss: 0.3192 - acc: 0.8900 - val_loss: 0.4650 - val_acc: 0.8432\n",
      "Epoch 189/200\n",
      "45000/45000 [==============================] - 231s - loss: 0.3228 - acc: 0.8885 - val_loss: 0.4963 - val_acc: 0.8348\n",
      "Epoch 190/200\n",
      "45000/45000 [==============================] - 230s - loss: 0.3236 - acc: 0.8891 - val_loss: 0.4700 - val_acc: 0.8416\n",
      "Epoch 191/200\n",
      "45000/45000 [==============================] - 231s - loss: 0.3197 - acc: 0.8906 - val_loss: 0.4608 - val_acc: 0.8494\n",
      "Epoch 192/200\n",
      "45000/45000 [==============================] - 231s - loss: 0.3231 - acc: 0.8877 - val_loss: 0.4879 - val_acc: 0.8384\n",
      "Epoch 193/200\n",
      "45000/45000 [==============================] - 231s - loss: 0.3217 - acc: 0.8886 - val_loss: 0.4509 - val_acc: 0.8524\n",
      "Epoch 194/200\n",
      "45000/45000 [==============================] - 232s - loss: 0.3191 - acc: 0.8905 - val_loss: 0.4697 - val_acc: 0.8482\n",
      "Epoch 195/200\n",
      "45000/45000 [==============================] - 231s - loss: 0.3149 - acc: 0.8910 - val_loss: 0.4710 - val_acc: 0.8432\n",
      "Epoch 196/200\n",
      "45000/45000 [==============================] - 231s - loss: 0.3142 - acc: 0.8904 - val_loss: 0.4764 - val_acc: 0.8422\n",
      "Epoch 197/200\n",
      "45000/45000 [==============================] - 231s - loss: 0.3102 - acc: 0.8919 - val_loss: 0.4626 - val_acc: 0.8476\n",
      "Epoch 198/200\n",
      "45000/45000 [==============================] - 231s - loss: 0.3054 - acc: 0.8949 - val_loss: 0.4644 - val_acc: 0.8460\n",
      "Epoch 199/200\n",
      "45000/45000 [==============================] - 232s - loss: 0.3149 - acc: 0.8926 - val_loss: 0.4845 - val_acc: 0.8410\n",
      "Epoch 200/200\n",
      "45000/45000 [==============================] - 231s - loss: 0.3077 - acc: 0.8924 - val_loss: 0.4857 - val_acc: 0.8378\n"
     ]
    }
   ],
   "source": [
    "# train\n",
    "\n",
    "_ = model.fit(X_train, y_train_ohe, \n",
    "              nb_epoch = 200, \n",
    "              verbose = True, # turn this on to visualize progress \n",
    "              validation_split = 0.1 # 10% of training data for validation per epoch\n",
    "             )"
   ]
  },
  {
   "cell_type": "code",
   "execution_count": 5,
   "metadata": {
    "collapsed": false,
    "slideshow": {
     "slide_type": "fragment"
    }
   },
   "outputs": [
    {
     "name": "stdout",
     "output_type": "stream",
     "text": [
      "50000/50000 [==============================] - 86s    \n",
      "First few predictions:  [6 9 9]\n",
      "Training accuracy: 0.94348\n",
      "10000/10000 [==============================] - 17s    \n",
      "Test accuracy: 0.8339\n"
     ]
    }
   ],
   "source": [
    "# evaluate\n",
    "\n",
    "y_train_pred = model.predict_classes(X_train, verbose=True)\n",
    "print('First few predictions: ', y_train_pred[:3])\n",
    "train_acc = accuracy_score(y_train, y_train_pred)\n",
    "print('Training accuracy:', train_acc)\n",
    "\n",
    "y_test_pred = model.predict_classes(X_test, verbose=True)\n",
    "test_acc = accuracy_score(y_test, y_test_pred)\n",
    "print('Test accuracy:', test_acc)"
   ]
  },
  {
   "cell_type": "code",
   "execution_count": 7,
   "metadata": {
    "collapsed": false,
    "slideshow": {
     "slide_type": "fragment"
    }
   },
   "outputs": [
    {
     "name": "stdout",
     "output_type": "stream",
     "text": [
      "convolution2d_9\n",
      "0.0257019\n",
      "1.0\n",
      "activation_11\n",
      "convolution2d_10\n",
      "0.0280275\n",
      "1.0\n",
      "activation_12\n",
      "maxpooling2d_3\n",
      "dropout_5\n",
      "convolution2d_11\n",
      "0.019394\n",
      "1.0\n",
      "activation_13\n",
      "convolution2d_12\n",
      "0.02157\n",
      "1.0\n",
      "activation_14\n",
      "maxpooling2d_4\n",
      "dropout_6\n",
      "convolution2d_13\n",
      "0.0152608\n",
      "1.0\n",
      "activation_15\n",
      "convolution2d_14\n",
      "0.0114568\n",
      "1.0\n",
      "activation_16\n",
      "averagepooling2d_2\n",
      "dropout_7\n",
      "flatten_2\n",
      "dense_3\n",
      "0.123782\n",
      "1.0\n",
      "activation_17\n",
      "dropout_8\n",
      "dense_4\n",
      "0.416896\n",
      "1.0\n",
      "activation_18\n"
     ]
    }
   ],
   "source": [
    "#best model\n",
    "model = Sequential()\n",
    "\n",
    "model.add(Convolution2D(32, 3, 3, border_mode='same', input_shape=X_train.shape[1:]))\n",
    "model.add(Activation('relu'))\n",
    "model.add(Convolution2D(32, 3, 3))\n",
    "model.add(Activation('relu'))\n",
    "model.add(MaxPooling2D(pool_size=(2, 2)))\n",
    "model.add(Dropout(0.5))\n",
    "\n",
    "model.add(Convolution2D(80, 3, 3, border_mode='same'))\n",
    "model.add(Activation('relu'))\n",
    "model.add(Convolution2D(80, 3, 3))\n",
    "model.add(Activation('relu'))\n",
    "model.add(MaxPooling2D(pool_size=(2, 2)))\n",
    "model.add(Dropout(0.5))\n",
    "\n",
    "model.add(Convolution2D(128, 3, 3, border_mode='same'))\n",
    "model.add(Activation('relu'))\n",
    "model.add(Convolution2D(128, 3, 3))\n",
    "model.add(Activation('relu'))\n",
    "model.add(AveragePooling2D(pool_size=(4, 4)))\n",
    "model.add(Dropout(0.5))\n",
    "\n",
    "model.add(Flatten())\n",
    "model.add(Dense(512))\n",
    "model.add(Activation('relu'))\n",
    "model.add(Dropout(0.5))\n",
    "model.add(Dense(nb_classes))\n",
    "model.add(Activation('softmax'))\n",
    "\n",
    "\n",
    "sgd = SGD(lr=0.001, decay=1e-7, momentum=.9)\n",
    "\n",
    "model.compile(loss = 'categorical_crossentropy', \n",
    "              optimizer = sgd, \n",
    "              metrics = [\"accuracy\"])\n",
    "\n",
    "batch_size = 128\n",
    "model = LSUVinit(model,X_train[:batch_size,:,:,:]) "
   ]
  },
  {
   "cell_type": "code",
   "execution_count": 8,
   "metadata": {
    "collapsed": false,
    "slideshow": {
     "slide_type": "fragment"
    }
   },
   "outputs": [
    {
     "name": "stdout",
     "output_type": "stream",
     "text": [
      "Train on 45000 samples, validate on 5000 samples\n",
      "Epoch 1/200\n",
      "45000/45000 [==============================] - 188s - loss: 2.2762 - acc: 0.1377 - val_loss: 2.1663 - val_acc: 0.1968\n",
      "Epoch 2/200\n",
      "45000/45000 [==============================] - 189s - loss: 2.0679 - acc: 0.1958 - val_loss: 1.9274 - val_acc: 0.2284\n",
      "Epoch 3/200\n",
      "45000/45000 [==============================] - 189s - loss: 1.9046 - acc: 0.2484 - val_loss: 1.9463 - val_acc: 0.2518\n",
      "Epoch 4/200\n",
      "45000/45000 [==============================] - 188s - loss: 1.8130 - acc: 0.2861 - val_loss: 1.7168 - val_acc: 0.3300\n",
      "Epoch 5/200\n",
      "45000/45000 [==============================] - 188s - loss: 1.7293 - acc: 0.3224 - val_loss: 1.6462 - val_acc: 0.3714\n",
      "Epoch 6/200\n",
      "45000/45000 [==============================] - 189s - loss: 1.6520 - acc: 0.3606 - val_loss: 1.5845 - val_acc: 0.3988\n",
      "Epoch 7/200\n",
      "45000/45000 [==============================] - 188s - loss: 1.5881 - acc: 0.3894 - val_loss: 1.6027 - val_acc: 0.4062\n",
      "Epoch 8/200\n",
      "45000/45000 [==============================] - 189s - loss: 1.5379 - acc: 0.4165 - val_loss: 1.4502 - val_acc: 0.4586\n",
      "Epoch 9/200\n",
      "45000/45000 [==============================] - 189s - loss: 1.4943 - acc: 0.4390 - val_loss: 1.5229 - val_acc: 0.4466\n",
      "Epoch 10/200\n",
      "45000/45000 [==============================] - 189s - loss: 1.4514 - acc: 0.4615 - val_loss: 1.3506 - val_acc: 0.5034\n",
      "Epoch 11/200\n",
      "45000/45000 [==============================] - 190s - loss: 1.4193 - acc: 0.4789 - val_loss: 1.2934 - val_acc: 0.5320\n",
      "Epoch 12/200\n",
      "45000/45000 [==============================] - 190s - loss: 1.3766 - acc: 0.4945 - val_loss: 1.2380 - val_acc: 0.5354\n",
      "Epoch 13/200\n",
      "45000/45000 [==============================] - 191s - loss: 1.3433 - acc: 0.5098 - val_loss: 1.2363 - val_acc: 0.5450\n",
      "Epoch 14/200\n",
      "45000/45000 [==============================] - 191s - loss: 1.3122 - acc: 0.5240 - val_loss: 1.1285 - val_acc: 0.5892\n",
      "Epoch 15/200\n",
      "45000/45000 [==============================] - 190s - loss: 1.2774 - acc: 0.5373 - val_loss: 1.1526 - val_acc: 0.5808\n",
      "Epoch 16/200\n",
      "45000/45000 [==============================] - 191s - loss: 1.2577 - acc: 0.5457 - val_loss: 1.1009 - val_acc: 0.6048\n",
      "Epoch 17/200\n",
      "45000/45000 [==============================] - 190s - loss: 1.2389 - acc: 0.5528 - val_loss: 1.1493 - val_acc: 0.5866\n",
      "Epoch 18/200\n",
      "45000/45000 [==============================] - 190s - loss: 1.2080 - acc: 0.5658 - val_loss: 1.0679 - val_acc: 0.6176\n",
      "Epoch 19/200\n",
      "45000/45000 [==============================] - 191s - loss: 1.1945 - acc: 0.5701 - val_loss: 1.0300 - val_acc: 0.6354\n",
      "Epoch 20/200\n",
      "45000/45000 [==============================] - 191s - loss: 1.1664 - acc: 0.5852 - val_loss: 1.0771 - val_acc: 0.6048\n",
      "Epoch 21/200\n",
      "45000/45000 [==============================] - 191s - loss: 1.1537 - acc: 0.5877 - val_loss: 1.0464 - val_acc: 0.6280\n",
      "Epoch 22/200\n",
      "45000/45000 [==============================] - 190s - loss: 1.1357 - acc: 0.5941 - val_loss: 0.9835 - val_acc: 0.6502\n",
      "Epoch 23/200\n",
      "45000/45000 [==============================] - 190s - loss: 1.1207 - acc: 0.6010 - val_loss: 0.9341 - val_acc: 0.6656\n",
      "Epoch 24/200\n",
      "45000/45000 [==============================] - 190s - loss: 1.1064 - acc: 0.6061 - val_loss: 0.9184 - val_acc: 0.6736\n",
      "Epoch 25/200\n",
      "45000/45000 [==============================] - 190s - loss: 1.0876 - acc: 0.6128 - val_loss: 0.8862 - val_acc: 0.6786\n",
      "Epoch 26/200\n",
      "45000/45000 [==============================] - 190s - loss: 1.0776 - acc: 0.6157 - val_loss: 0.8927 - val_acc: 0.6780\n",
      "Epoch 27/200\n",
      "45000/45000 [==============================] - 190s - loss: 1.0592 - acc: 0.6230 - val_loss: 0.9365 - val_acc: 0.6658\n",
      "Epoch 28/200\n",
      "45000/45000 [==============================] - 190s - loss: 1.0481 - acc: 0.6278 - val_loss: 0.9325 - val_acc: 0.6620\n",
      "Epoch 29/200\n",
      "45000/45000 [==============================] - 190s - loss: 1.0353 - acc: 0.6353 - val_loss: 0.9038 - val_acc: 0.6724\n",
      "Epoch 30/200\n",
      "45000/45000 [==============================] - 190s - loss: 1.0258 - acc: 0.6357 - val_loss: 0.8298 - val_acc: 0.7014\n",
      "Epoch 31/200\n",
      "45000/45000 [==============================] - 190s - loss: 1.0098 - acc: 0.6437 - val_loss: 0.8622 - val_acc: 0.6940\n",
      "Epoch 32/200\n",
      "45000/45000 [==============================] - 190s - loss: 0.9978 - acc: 0.6466 - val_loss: 0.8151 - val_acc: 0.7128\n",
      "Epoch 33/200\n",
      "45000/45000 [==============================] - 190s - loss: 0.9888 - acc: 0.6495 - val_loss: 0.8791 - val_acc: 0.6956\n",
      "Epoch 34/200\n",
      "45000/45000 [==============================] - 190s - loss: 0.9731 - acc: 0.6568 - val_loss: 0.8046 - val_acc: 0.7150\n",
      "Epoch 35/200\n",
      "45000/45000 [==============================] - 190s - loss: 0.9670 - acc: 0.6574 - val_loss: 0.7537 - val_acc: 0.7312\n",
      "Epoch 36/200\n",
      "45000/45000 [==============================] - 190s - loss: 0.9567 - acc: 0.6616 - val_loss: 0.8403 - val_acc: 0.7046\n",
      "Epoch 37/200\n",
      "45000/45000 [==============================] - 191s - loss: 0.9492 - acc: 0.6645 - val_loss: 0.7872 - val_acc: 0.7210\n",
      "Epoch 38/200\n",
      "45000/45000 [==============================] - 190s - loss: 0.9326 - acc: 0.6720 - val_loss: 0.7595 - val_acc: 0.7316\n",
      "Epoch 39/200\n",
      "45000/45000 [==============================] - 190s - loss: 0.9279 - acc: 0.6730 - val_loss: 0.7702 - val_acc: 0.7286\n",
      "Epoch 40/200\n",
      "45000/45000 [==============================] - 191s - loss: 0.9200 - acc: 0.6789 - val_loss: 0.8193 - val_acc: 0.7160\n",
      "Epoch 41/200\n",
      "45000/45000 [==============================] - 191s - loss: 0.9095 - acc: 0.6793 - val_loss: 0.7744 - val_acc: 0.7300\n",
      "Epoch 42/200\n",
      "45000/45000 [==============================] - 190s - loss: 0.9022 - acc: 0.6838 - val_loss: 0.7512 - val_acc: 0.7324\n",
      "Epoch 43/200\n",
      "45000/45000 [==============================] - 190s - loss: 0.8919 - acc: 0.6878 - val_loss: 0.6806 - val_acc: 0.7552\n",
      "Epoch 44/200\n",
      "45000/45000 [==============================] - 190s - loss: 0.8879 - acc: 0.6910 - val_loss: 0.7080 - val_acc: 0.7554\n",
      "Epoch 45/200\n",
      "45000/45000 [==============================] - 191s - loss: 0.8776 - acc: 0.6924 - val_loss: 0.7043 - val_acc: 0.7562\n",
      "Epoch 46/200\n",
      "45000/45000 [==============================] - 190s - loss: 0.8699 - acc: 0.6962 - val_loss: 0.7017 - val_acc: 0.7522\n",
      "Epoch 47/200\n",
      "45000/45000 [==============================] - 190s - loss: 0.8629 - acc: 0.6997 - val_loss: 0.7086 - val_acc: 0.7506\n",
      "Epoch 48/200\n",
      "45000/45000 [==============================] - 190s - loss: 0.8542 - acc: 0.7019 - val_loss: 0.6823 - val_acc: 0.7636\n",
      "Epoch 49/200\n",
      "45000/45000 [==============================] - 190s - loss: 0.8494 - acc: 0.7027 - val_loss: 0.7141 - val_acc: 0.7544\n",
      "Epoch 50/200\n",
      "45000/45000 [==============================] - 190s - loss: 0.8454 - acc: 0.7074 - val_loss: 0.6604 - val_acc: 0.7678\n",
      "Epoch 51/200\n",
      "45000/45000 [==============================] - 190s - loss: 0.8363 - acc: 0.7097 - val_loss: 0.7323 - val_acc: 0.7466\n",
      "Epoch 52/200\n",
      "45000/45000 [==============================] - 191s - loss: 0.8337 - acc: 0.7089 - val_loss: 0.6725 - val_acc: 0.7686\n",
      "Epoch 53/200\n",
      "45000/45000 [==============================] - 190s - loss: 0.8250 - acc: 0.7116 - val_loss: 0.6422 - val_acc: 0.7760\n",
      "Epoch 54/200\n",
      "45000/45000 [==============================] - 190s - loss: 0.8209 - acc: 0.7149 - val_loss: 0.6456 - val_acc: 0.7790\n",
      "Epoch 55/200\n",
      "45000/45000 [==============================] - 191s - loss: 0.8139 - acc: 0.7179 - val_loss: 0.6495 - val_acc: 0.7738\n",
      "Epoch 56/200\n",
      "45000/45000 [==============================] - 191s - loss: 0.8114 - acc: 0.7205 - val_loss: 0.6254 - val_acc: 0.7800\n",
      "Epoch 57/200\n",
      "45000/45000 [==============================] - 189s - loss: 0.8098 - acc: 0.7181 - val_loss: 0.6974 - val_acc: 0.7630\n",
      "Epoch 58/200\n",
      "45000/45000 [==============================] - 190s - loss: 0.7969 - acc: 0.7244 - val_loss: 0.6641 - val_acc: 0.7724\n",
      "Epoch 59/200\n",
      "45000/45000 [==============================] - 191s - loss: 0.7874 - acc: 0.7273 - val_loss: 0.6526 - val_acc: 0.7720\n",
      "Epoch 60/200\n",
      "45000/45000 [==============================] - 190s - loss: 0.7853 - acc: 0.7268 - val_loss: 0.6468 - val_acc: 0.7756\n",
      "Epoch 61/200\n",
      "45000/45000 [==============================] - 190s - loss: 0.7755 - acc: 0.7312 - val_loss: 0.6111 - val_acc: 0.7878\n",
      "Epoch 62/200\n",
      "45000/45000 [==============================] - 190s - loss: 0.7817 - acc: 0.7300 - val_loss: 0.6713 - val_acc: 0.7680\n",
      "Epoch 63/200\n",
      "45000/45000 [==============================] - 190s - loss: 0.7725 - acc: 0.7330 - val_loss: 0.6460 - val_acc: 0.7826\n",
      "Epoch 64/200\n",
      "45000/45000 [==============================] - 190s - loss: 0.7705 - acc: 0.7336 - val_loss: 0.6447 - val_acc: 0.7802\n",
      "Epoch 65/200\n",
      "45000/45000 [==============================] - 190s - loss: 0.7621 - acc: 0.7341 - val_loss: 0.6030 - val_acc: 0.7886\n",
      "Epoch 66/200\n",
      "45000/45000 [==============================] - 191s - loss: 0.7546 - acc: 0.7402 - val_loss: 0.6075 - val_acc: 0.7900\n",
      "Epoch 67/200\n",
      "45000/45000 [==============================] - 190s - loss: 0.7522 - acc: 0.7399 - val_loss: 0.5883 - val_acc: 0.7904\n",
      "Epoch 68/200\n",
      "45000/45000 [==============================] - 190s - loss: 0.7463 - acc: 0.7431 - val_loss: 0.6325 - val_acc: 0.7836\n",
      "Epoch 69/200\n",
      "45000/45000 [==============================] - 190s - loss: 0.7416 - acc: 0.7440 - val_loss: 0.5991 - val_acc: 0.7932\n",
      "Epoch 70/200\n",
      "45000/45000 [==============================] - 190s - loss: 0.7395 - acc: 0.7458 - val_loss: 0.6068 - val_acc: 0.7906\n",
      "Epoch 71/200\n",
      "45000/45000 [==============================] - 191s - loss: 0.7388 - acc: 0.7436 - val_loss: 0.6563 - val_acc: 0.7790\n",
      "Epoch 72/200\n",
      "45000/45000 [==============================] - 191s - loss: 0.7337 - acc: 0.7481 - val_loss: 0.6012 - val_acc: 0.7944\n",
      "Epoch 73/200\n",
      "45000/45000 [==============================] - 190s - loss: 0.7246 - acc: 0.7495 - val_loss: 0.6217 - val_acc: 0.7896\n",
      "Epoch 74/200\n",
      "45000/45000 [==============================] - 191s - loss: 0.7254 - acc: 0.7488 - val_loss: 0.6168 - val_acc: 0.7908\n",
      "Epoch 75/200\n",
      "45000/45000 [==============================] - 190s - loss: 0.7161 - acc: 0.7530 - val_loss: 0.5880 - val_acc: 0.7976\n",
      "Epoch 76/200\n",
      "45000/45000 [==============================] - 191s - loss: 0.7123 - acc: 0.7535 - val_loss: 0.6220 - val_acc: 0.7844\n",
      "Epoch 77/200\n",
      "45000/45000 [==============================] - 190s - loss: 0.7164 - acc: 0.7541 - val_loss: 0.5782 - val_acc: 0.8000\n",
      "Epoch 78/200\n",
      "45000/45000 [==============================] - 190s - loss: 0.7155 - acc: 0.7537 - val_loss: 0.5922 - val_acc: 0.7980\n",
      "Epoch 79/200\n",
      "45000/45000 [==============================] - 189s - loss: 0.7044 - acc: 0.7579 - val_loss: 0.5973 - val_acc: 0.7984\n",
      "Epoch 80/200\n",
      "45000/45000 [==============================] - 190s - loss: 0.7025 - acc: 0.7596 - val_loss: 0.5992 - val_acc: 0.7958\n",
      "Epoch 81/200\n",
      "45000/45000 [==============================] - 191s - loss: 0.7003 - acc: 0.7589 - val_loss: 0.6160 - val_acc: 0.7954\n",
      "Epoch 82/200\n",
      "45000/45000 [==============================] - 191s - loss: 0.6927 - acc: 0.7604 - val_loss: 0.5940 - val_acc: 0.7942\n",
      "Epoch 83/200\n",
      "45000/45000 [==============================] - 191s - loss: 0.6946 - acc: 0.7580 - val_loss: 0.5517 - val_acc: 0.8092\n",
      "Epoch 84/200\n",
      "45000/45000 [==============================] - 190s - loss: 0.6885 - acc: 0.7644 - val_loss: 0.5575 - val_acc: 0.8098\n",
      "Epoch 85/200\n",
      "45000/45000 [==============================] - 190s - loss: 0.6822 - acc: 0.7666 - val_loss: 0.5576 - val_acc: 0.8078\n",
      "Epoch 86/200\n",
      "45000/45000 [==============================] - 190s - loss: 0.6795 - acc: 0.7654 - val_loss: 0.5431 - val_acc: 0.8118\n",
      "Epoch 87/200\n",
      "45000/45000 [==============================] - 191s - loss: 0.6745 - acc: 0.7689 - val_loss: 0.5774 - val_acc: 0.8052\n",
      "Epoch 88/200\n",
      "45000/45000 [==============================] - 191s - loss: 0.6691 - acc: 0.7715 - val_loss: 0.5672 - val_acc: 0.8098\n",
      "Epoch 89/200\n",
      "45000/45000 [==============================] - 190s - loss: 0.6749 - acc: 0.7662 - val_loss: 0.5623 - val_acc: 0.8044\n",
      "Epoch 90/200\n",
      "45000/45000 [==============================] - 190s - loss: 0.6658 - acc: 0.7722 - val_loss: 0.5695 - val_acc: 0.8070\n",
      "Epoch 91/200\n",
      "45000/45000 [==============================] - 190s - loss: 0.6632 - acc: 0.7704 - val_loss: 0.5513 - val_acc: 0.8104\n",
      "Epoch 92/200\n",
      "45000/45000 [==============================] - 190s - loss: 0.6592 - acc: 0.7744 - val_loss: 0.5856 - val_acc: 0.8012\n",
      "Epoch 93/200\n",
      "45000/45000 [==============================] - 191s - loss: 0.6571 - acc: 0.7743 - val_loss: 0.5437 - val_acc: 0.8196\n",
      "Epoch 94/200\n",
      "45000/45000 [==============================] - 190s - loss: 0.6601 - acc: 0.7734 - val_loss: 0.5570 - val_acc: 0.8140\n",
      "Epoch 95/200\n",
      "45000/45000 [==============================] - 190s - loss: 0.6537 - acc: 0.7746 - val_loss: 0.5734 - val_acc: 0.8098\n",
      "Epoch 96/200\n",
      "45000/45000 [==============================] - 190s - loss: 0.6468 - acc: 0.7772 - val_loss: 0.5542 - val_acc: 0.8104\n",
      "Epoch 97/200\n",
      "45000/45000 [==============================] - 190s - loss: 0.6381 - acc: 0.7796 - val_loss: 0.5748 - val_acc: 0.8082\n",
      "Epoch 98/200\n",
      "45000/45000 [==============================] - 190s - loss: 0.6395 - acc: 0.7785 - val_loss: 0.5931 - val_acc: 0.8032\n",
      "Epoch 99/200\n",
      "45000/45000 [==============================] - 191s - loss: 0.6403 - acc: 0.7792 - val_loss: 0.5732 - val_acc: 0.8064\n",
      "Epoch 100/200\n",
      "45000/45000 [==============================] - 191s - loss: 0.6382 - acc: 0.7797 - val_loss: 0.5541 - val_acc: 0.8106\n",
      "Epoch 101/200\n",
      "45000/45000 [==============================] - 190s - loss: 0.6353 - acc: 0.7817 - val_loss: 0.5367 - val_acc: 0.8144\n",
      "Epoch 102/200\n",
      "45000/45000 [==============================] - 190s - loss: 0.6337 - acc: 0.7835 - val_loss: 0.5674 - val_acc: 0.8096\n",
      "Epoch 103/200\n",
      "45000/45000 [==============================] - 191s - loss: 0.6272 - acc: 0.7852 - val_loss: 0.5485 - val_acc: 0.8138\n",
      "Epoch 104/200\n",
      "45000/45000 [==============================] - 191s - loss: 0.6284 - acc: 0.7831 - val_loss: 0.5751 - val_acc: 0.8060\n",
      "Epoch 105/200\n",
      "45000/45000 [==============================] - 191s - loss: 0.6288 - acc: 0.7835 - val_loss: 0.5184 - val_acc: 0.8272\n",
      "Epoch 106/200\n",
      "45000/45000 [==============================] - 191s - loss: 0.6208 - acc: 0.7861 - val_loss: 0.5922 - val_acc: 0.8018\n",
      "Epoch 107/200\n",
      "45000/45000 [==============================] - 191s - loss: 0.6170 - acc: 0.7876 - val_loss: 0.5261 - val_acc: 0.8220\n",
      "Epoch 108/200\n",
      "45000/45000 [==============================] - 190s - loss: 0.6143 - acc: 0.7898 - val_loss: 0.5355 - val_acc: 0.8200\n",
      "Epoch 109/200\n",
      "45000/45000 [==============================] - 190s - loss: 0.6173 - acc: 0.7894 - val_loss: 0.5397 - val_acc: 0.8194\n",
      "Epoch 110/200\n",
      "45000/45000 [==============================] - 190s - loss: 0.6104 - acc: 0.7914 - val_loss: 0.5077 - val_acc: 0.8326\n",
      "Epoch 111/200\n",
      "45000/45000 [==============================] - 190s - loss: 0.6088 - acc: 0.7903 - val_loss: 0.5259 - val_acc: 0.8232\n",
      "Epoch 112/200\n",
      "45000/45000 [==============================] - 190s - loss: 0.6109 - acc: 0.7899 - val_loss: 0.5324 - val_acc: 0.8210\n",
      "Epoch 113/200\n",
      "45000/45000 [==============================] - 190s - loss: 0.6063 - acc: 0.7902 - val_loss: 0.5232 - val_acc: 0.8226\n",
      "Epoch 114/200\n",
      "45000/45000 [==============================] - 190s - loss: 0.5956 - acc: 0.7925 - val_loss: 0.5581 - val_acc: 0.8168\n",
      "Epoch 115/200\n",
      "45000/45000 [==============================] - 191s - loss: 0.6005 - acc: 0.7942 - val_loss: 0.5377 - val_acc: 0.8232\n",
      "Epoch 116/200\n",
      "45000/45000 [==============================] - 190s - loss: 0.6001 - acc: 0.7920 - val_loss: 0.5233 - val_acc: 0.8240\n",
      "Epoch 117/200\n",
      "45000/45000 [==============================] - 189s - loss: 0.5999 - acc: 0.7949 - val_loss: 0.5031 - val_acc: 0.8278\n",
      "Epoch 118/200\n",
      "45000/45000 [==============================] - 191s - loss: 0.5931 - acc: 0.7970 - val_loss: 0.5275 - val_acc: 0.8268\n",
      "Epoch 119/200\n",
      "45000/45000 [==============================] - 190s - loss: 0.5895 - acc: 0.7954 - val_loss: 0.5097 - val_acc: 0.8288\n",
      "Epoch 120/200\n",
      "45000/45000 [==============================] - 190s - loss: 0.5898 - acc: 0.7971 - val_loss: 0.5552 - val_acc: 0.8166\n",
      "Epoch 121/200\n",
      "45000/45000 [==============================] - 190s - loss: 0.5861 - acc: 0.7998 - val_loss: 0.5242 - val_acc: 0.8248\n",
      "Epoch 122/200\n",
      "45000/45000 [==============================] - 189s - loss: 0.5849 - acc: 0.7971 - val_loss: 0.5022 - val_acc: 0.8316\n",
      "Epoch 123/200\n",
      "45000/45000 [==============================] - 191s - loss: 0.5793 - acc: 0.8005 - val_loss: 0.4960 - val_acc: 0.8370\n",
      "Epoch 124/200\n",
      "45000/45000 [==============================] - 191s - loss: 0.5861 - acc: 0.7982 - val_loss: 0.5180 - val_acc: 0.8280\n",
      "Epoch 125/200\n",
      "45000/45000 [==============================] - 191s - loss: 0.5768 - acc: 0.8023 - val_loss: 0.5182 - val_acc: 0.8286\n",
      "Epoch 126/200\n",
      "45000/45000 [==============================] - 191s - loss: 0.5750 - acc: 0.8012 - val_loss: 0.5138 - val_acc: 0.8264\n",
      "Epoch 127/200\n",
      "45000/45000 [==============================] - 191s - loss: 0.5720 - acc: 0.8040 - val_loss: 0.4892 - val_acc: 0.8362\n",
      "Epoch 128/200\n",
      "45000/45000 [==============================] - 191s - loss: 0.5721 - acc: 0.8044 - val_loss: 0.5009 - val_acc: 0.8318\n",
      "Epoch 129/200\n",
      "45000/45000 [==============================] - 191s - loss: 0.5729 - acc: 0.8032 - val_loss: 0.5021 - val_acc: 0.8286\n",
      "Epoch 130/200\n",
      "45000/45000 [==============================] - 192s - loss: 0.5729 - acc: 0.8015 - val_loss: 0.4854 - val_acc: 0.8338\n",
      "Epoch 131/200\n",
      "45000/45000 [==============================] - 191s - loss: 0.5658 - acc: 0.8044 - val_loss: 0.5019 - val_acc: 0.8342\n",
      "Epoch 132/200\n",
      "45000/45000 [==============================] - 191s - loss: 0.5629 - acc: 0.8054 - val_loss: 0.5444 - val_acc: 0.8206\n",
      "Epoch 133/200\n",
      "45000/45000 [==============================] - 191s - loss: 0.5613 - acc: 0.8090 - val_loss: 0.5292 - val_acc: 0.8268\n",
      "Epoch 134/200\n",
      "45000/45000 [==============================] - 190s - loss: 0.5654 - acc: 0.8053 - val_loss: 0.4956 - val_acc: 0.8380\n",
      "Epoch 135/200\n",
      "45000/45000 [==============================] - 191s - loss: 0.5586 - acc: 0.8078 - val_loss: 0.4714 - val_acc: 0.8418\n",
      "Epoch 136/200\n",
      "45000/45000 [==============================] - 190s - loss: 0.5587 - acc: 0.8077 - val_loss: 0.4879 - val_acc: 0.8354\n",
      "Epoch 137/200\n",
      "45000/45000 [==============================] - 191s - loss: 0.5542 - acc: 0.8094 - val_loss: 0.5250 - val_acc: 0.8296\n",
      "Epoch 138/200\n",
      "45000/45000 [==============================] - 191s - loss: 0.5577 - acc: 0.8078 - val_loss: 0.4852 - val_acc: 0.8428\n",
      "Epoch 139/200\n",
      "45000/45000 [==============================] - 190s - loss: 0.5529 - acc: 0.8111 - val_loss: 0.4730 - val_acc: 0.8426\n",
      "Epoch 140/200\n",
      "45000/45000 [==============================] - 191s - loss: 0.5485 - acc: 0.8121 - val_loss: 0.4781 - val_acc: 0.8398\n",
      "Epoch 141/200\n",
      "45000/45000 [==============================] - 191s - loss: 0.5460 - acc: 0.8127 - val_loss: 0.4919 - val_acc: 0.8398\n",
      "Epoch 142/200\n",
      "45000/45000 [==============================] - 190s - loss: 0.5441 - acc: 0.8131 - val_loss: 0.4822 - val_acc: 0.8404\n",
      "Epoch 143/200\n",
      "45000/45000 [==============================] - 190s - loss: 0.5402 - acc: 0.8137 - val_loss: 0.5220 - val_acc: 0.8230\n",
      "Epoch 144/200\n",
      "45000/45000 [==============================] - 190s - loss: 0.5424 - acc: 0.8148 - val_loss: 0.4861 - val_acc: 0.8390\n",
      "Epoch 145/200\n",
      "45000/45000 [==============================] - 190s - loss: 0.5418 - acc: 0.8155 - val_loss: 0.4813 - val_acc: 0.8396\n",
      "Epoch 146/200\n",
      "45000/45000 [==============================] - 190s - loss: 0.5428 - acc: 0.8146 - val_loss: 0.4684 - val_acc: 0.8424\n",
      "Epoch 147/200\n",
      "45000/45000 [==============================] - 190s - loss: 0.5362 - acc: 0.8141 - val_loss: 0.5086 - val_acc: 0.8356\n",
      "Epoch 148/200\n",
      "45000/45000 [==============================] - 191s - loss: 0.5354 - acc: 0.8154 - val_loss: 0.4804 - val_acc: 0.8408\n",
      "Epoch 149/200\n",
      "45000/45000 [==============================] - 191s - loss: 0.5324 - acc: 0.8170 - val_loss: 0.4837 - val_acc: 0.8392\n",
      "Epoch 150/200\n",
      "45000/45000 [==============================] - 190s - loss: 0.5347 - acc: 0.8139 - val_loss: 0.4877 - val_acc: 0.8382\n",
      "Epoch 151/200\n",
      "45000/45000 [==============================] - 190s - loss: 0.5325 - acc: 0.8153 - val_loss: 0.4875 - val_acc: 0.8380\n",
      "Epoch 152/200\n",
      "45000/45000 [==============================] - 190s - loss: 0.5291 - acc: 0.8181 - val_loss: 0.5111 - val_acc: 0.8322\n",
      "Epoch 153/200\n",
      "45000/45000 [==============================] - 190s - loss: 0.5299 - acc: 0.8176 - val_loss: 0.4936 - val_acc: 0.8350\n",
      "Epoch 154/200\n",
      "45000/45000 [==============================] - 190s - loss: 0.5220 - acc: 0.8188 - val_loss: 0.4801 - val_acc: 0.8408\n",
      "Epoch 155/200\n",
      "45000/45000 [==============================] - 191s - loss: 0.5313 - acc: 0.8178 - val_loss: 0.4852 - val_acc: 0.8366\n",
      "Epoch 156/200\n",
      "45000/45000 [==============================] - 191s - loss: 0.5218 - acc: 0.8196 - val_loss: 0.4746 - val_acc: 0.8418\n",
      "Epoch 157/200\n",
      "45000/45000 [==============================] - 190s - loss: 0.5236 - acc: 0.8201 - val_loss: 0.4912 - val_acc: 0.8414\n",
      "Epoch 158/200\n",
      "45000/45000 [==============================] - 190s - loss: 0.5209 - acc: 0.8208 - val_loss: 0.4710 - val_acc: 0.8434\n",
      "Epoch 159/200\n",
      "45000/45000 [==============================] - 190s - loss: 0.5254 - acc: 0.8188 - val_loss: 0.4657 - val_acc: 0.8450\n",
      "Epoch 160/200\n",
      "45000/45000 [==============================] - 190s - loss: 0.5174 - acc: 0.8217 - val_loss: 0.4629 - val_acc: 0.8468\n",
      "Epoch 161/200\n",
      "45000/45000 [==============================] - 190s - loss: 0.5138 - acc: 0.8228 - val_loss: 0.4530 - val_acc: 0.8458\n",
      "Epoch 162/200\n",
      "45000/45000 [==============================] - 190s - loss: 0.5169 - acc: 0.8225 - val_loss: 0.4646 - val_acc: 0.8450\n",
      "Epoch 163/200\n",
      "45000/45000 [==============================] - 190s - loss: 0.5135 - acc: 0.8218 - val_loss: 0.4727 - val_acc: 0.8470\n",
      "Epoch 164/200\n",
      "45000/45000 [==============================] - 190s - loss: 0.5143 - acc: 0.8234 - val_loss: 0.4815 - val_acc: 0.8438\n",
      "Epoch 165/200\n",
      "45000/45000 [==============================] - 191s - loss: 0.5146 - acc: 0.8226 - val_loss: 0.4720 - val_acc: 0.8498\n",
      "Epoch 166/200\n",
      "45000/45000 [==============================] - 191s - loss: 0.5138 - acc: 0.8240 - val_loss: 0.4683 - val_acc: 0.8472\n",
      "Epoch 167/200\n",
      "45000/45000 [==============================] - 191s - loss: 0.5066 - acc: 0.8250 - val_loss: 0.4739 - val_acc: 0.8460\n",
      "Epoch 168/200\n",
      "45000/45000 [==============================] - 192s - loss: 0.5052 - acc: 0.8247 - val_loss: 0.4841 - val_acc: 0.8380\n",
      "Epoch 169/200\n",
      "45000/45000 [==============================] - 192s - loss: 0.5078 - acc: 0.8256 - val_loss: 0.4731 - val_acc: 0.8446\n",
      "Epoch 170/200\n",
      "45000/45000 [==============================] - 191s - loss: 0.5013 - acc: 0.8278 - val_loss: 0.4735 - val_acc: 0.8410\n",
      "Epoch 171/200\n",
      "45000/45000 [==============================] - 191s - loss: 0.5026 - acc: 0.8270 - val_loss: 0.4624 - val_acc: 0.8468\n",
      "Epoch 172/200\n",
      "45000/45000 [==============================] - 191s - loss: 0.5035 - acc: 0.8255 - val_loss: 0.4616 - val_acc: 0.8452\n",
      "Epoch 173/200\n",
      "45000/45000 [==============================] - 190s - loss: 0.4986 - acc: 0.8274 - val_loss: 0.4699 - val_acc: 0.8440\n",
      "Epoch 174/200\n",
      "45000/45000 [==============================] - 190s - loss: 0.5007 - acc: 0.8262 - val_loss: 0.4926 - val_acc: 0.8402\n",
      "Epoch 175/200\n",
      "45000/45000 [==============================] - 190s - loss: 0.4977 - acc: 0.8298 - val_loss: 0.4877 - val_acc: 0.8348\n",
      "Epoch 176/200\n",
      "45000/45000 [==============================] - 190s - loss: 0.4951 - acc: 0.8293 - val_loss: 0.4634 - val_acc: 0.8464\n",
      "Epoch 177/200\n",
      "45000/45000 [==============================] - 189s - loss: 0.4958 - acc: 0.8284 - val_loss: 0.4727 - val_acc: 0.8462\n",
      "Epoch 178/200\n",
      "45000/45000 [==============================] - 189s - loss: 0.4972 - acc: 0.8288 - val_loss: 0.4690 - val_acc: 0.8434\n",
      "Epoch 179/200\n",
      "45000/45000 [==============================] - 190s - loss: 0.4958 - acc: 0.8288 - val_loss: 0.4612 - val_acc: 0.8508\n",
      "Epoch 180/200\n",
      "45000/45000 [==============================] - 189s - loss: 0.4852 - acc: 0.8321 - val_loss: 0.4724 - val_acc: 0.8450\n",
      "Epoch 181/200\n",
      "45000/45000 [==============================] - 190s - loss: 0.4875 - acc: 0.8332 - val_loss: 0.4664 - val_acc: 0.8432\n",
      "Epoch 182/200\n",
      "45000/45000 [==============================] - 191s - loss: 0.4923 - acc: 0.8287 - val_loss: 0.4663 - val_acc: 0.8470\n",
      "Epoch 183/200\n",
      "45000/45000 [==============================] - 191s - loss: 0.4840 - acc: 0.8341 - val_loss: 0.4441 - val_acc: 0.8528\n",
      "Epoch 184/200\n",
      "45000/45000 [==============================] - 191s - loss: 0.4877 - acc: 0.8328 - val_loss: 0.4674 - val_acc: 0.8434\n",
      "Epoch 185/200\n",
      "45000/45000 [==============================] - 191s - loss: 0.4885 - acc: 0.8329 - val_loss: 0.4761 - val_acc: 0.8430\n",
      "Epoch 186/200\n",
      "45000/45000 [==============================] - 190s - loss: 0.4844 - acc: 0.8327 - val_loss: 0.4584 - val_acc: 0.8472\n",
      "Epoch 187/200\n",
      "45000/45000 [==============================] - 191s - loss: 0.4830 - acc: 0.8338 - val_loss: 0.4553 - val_acc: 0.8468\n",
      "Epoch 188/200\n",
      "45000/45000 [==============================] - 190s - loss: 0.4747 - acc: 0.8370 - val_loss: 0.4585 - val_acc: 0.8452\n",
      "Epoch 189/200\n",
      "45000/45000 [==============================] - 190s - loss: 0.4771 - acc: 0.8377 - val_loss: 0.4474 - val_acc: 0.8498\n",
      "Epoch 190/200\n",
      "45000/45000 [==============================] - 191s - loss: 0.4802 - acc: 0.8350 - val_loss: 0.4606 - val_acc: 0.8486\n",
      "Epoch 191/200\n",
      "45000/45000 [==============================] - 191s - loss: 0.4759 - acc: 0.8358 - val_loss: 0.4461 - val_acc: 0.8510\n",
      "Epoch 192/200\n",
      "45000/45000 [==============================] - 191s - loss: 0.4807 - acc: 0.8334 - val_loss: 0.4504 - val_acc: 0.8476\n",
      "Epoch 193/200\n",
      "45000/45000 [==============================] - 191s - loss: 0.4750 - acc: 0.8381 - val_loss: 0.4461 - val_acc: 0.8484\n",
      "Epoch 194/200\n",
      "45000/45000 [==============================] - 190s - loss: 0.4765 - acc: 0.8339 - val_loss: 0.4530 - val_acc: 0.8492\n",
      "Epoch 195/200\n",
      "45000/45000 [==============================] - 191s - loss: 0.4695 - acc: 0.8368 - val_loss: 0.4714 - val_acc: 0.8442\n",
      "Epoch 196/200\n",
      "45000/45000 [==============================] - 191s - loss: 0.4725 - acc: 0.8360 - val_loss: 0.4488 - val_acc: 0.8554\n",
      "Epoch 197/200\n",
      "45000/45000 [==============================] - 191s - loss: 0.4700 - acc: 0.8375 - val_loss: 0.4469 - val_acc: 0.8498\n",
      "Epoch 198/200\n",
      "45000/45000 [==============================] - 191s - loss: 0.4753 - acc: 0.8347 - val_loss: 0.4554 - val_acc: 0.8496\n",
      "Epoch 199/200\n",
      "45000/45000 [==============================] - 191s - loss: 0.4706 - acc: 0.8366 - val_loss: 0.4858 - val_acc: 0.8420\n",
      "Epoch 200/200\n",
      "45000/45000 [==============================] - 191s - loss: 0.4661 - acc: 0.8399 - val_loss: 0.4549 - val_acc: 0.8528\n"
     ]
    }
   ],
   "source": [
    "# train\n",
    "\n",
    "_ = model.fit(X_train, y_train_ohe, \n",
    "              nb_epoch = 200, \n",
    "              verbose = True, # turn this on to visualize progress \n",
    "              validation_split = 0.1 # 10% of training data for validation per epoch\n",
    "             )"
   ]
  },
  {
   "cell_type": "code",
   "execution_count": 9,
   "metadata": {
    "collapsed": false
   },
   "outputs": [
    {
     "name": "stdout",
     "output_type": "stream",
     "text": [
      "50000/50000 [==============================] - 73s    \n",
      "First few predictions:  [6 9 9]\n",
      "Training accuracy: 0.91238\n",
      "10000/10000 [==============================] - 14s    \n",
      "Test accuracy: 0.8398\n"
     ]
    }
   ],
   "source": [
    "# evaluate\n",
    "\n",
    "y_train_pred = model.predict_classes(X_train, verbose=True)\n",
    "print('First few predictions: ', y_train_pred[:3])\n",
    "train_acc = accuracy_score(y_train, y_train_pred)\n",
    "print('Training accuracy:', train_acc)\n",
    "\n",
    "y_test_pred = model.predict_classes(X_test, verbose=True)\n",
    "test_acc = accuracy_score(y_test, y_test_pred)\n",
    "print('Test accuracy:', test_acc)"
   ]
  },
  {
   "cell_type": "markdown",
   "metadata": {
    "slideshow": {
     "slide_type": "fragment"
    }
   },
   "source": [
    "## Your description\n",
    "with the following main parts:\n",
    "\n",
    "<dl>\n",
    "\n",
    "<dt>Introduction</dt>\n",
    "<dd>\n",
    "At a high-level, what are the approaches you considered and why?\n",
    "</dd>\n",
    "\n",
    "<dt>Method</dt>\n",
    "<dd>\n",
    "Describe your entire pipeline, such as data-preprocessing, model selection, and hyper-parameter optpimization.\n",
    "</dd>\n",
    "\n",
    "<dt>Results</dt>\n",
    "<dd>\n",
    "Describe the experimental process you took to arrive at the solution.\n",
    "For example:\n",
    "(1) compare your approach against other approach(es) you have tried, as\n",
    "well as the MLP baseline classifer.\n",
    "(2) compare against different settings of model parameters, e.g. regularization type/strength, number of hidden units or structure of a neural network, types of kernel in a SVM, etc. \n",
    "\n",
    "<dt>Conclusion</dt>\n",
    "<dd>\n",
    "Summarize what you have learned from the experiments and discuss the limitations and potential future improvements of your current method.\n",
    "</dd>\n",
    "\n",
    "<dt>References</dt>\n",
    "<dd>\n",
    "Cite any publically available code, blog posts, research papers, etc. you used or got ideas from.\n",
    "</dl>"
   ]
  },
  {
   "cell_type": "markdown",
   "metadata": {
    "slideshow": {
     "slide_type": "fragment"
    }
   },
   "source": [
    "## Introduction\n",
    "\n",
    "I consider using CNN to train my data. Since CNN is sparser and implicitly regularized than MLP. With the aid of CNN, I can go deeper into the analysis.\n",
    "\n",
    "## Method\n",
    "\n",
    "I use LAYER-SEQUENTIAL UNIT-VARIANCE INITIALIZATION (LSUV) method to process(initialize) my data. Basically speaking, the method is made up of two steps. First, pre-initialize weights of each convolution or inner-product layer with orthonormal matrices and Gaussian noise with unit variance. Decompose the weights to orthonormal basis with QR or SVDdecomposition and replace them.  Second, normalize the variance of the output of each layer to be equal to one. This method can be considered as an orthonormal initialization combined with batch normalization performed only on the first mini-batch. It is said the initial orthonormalization of weights efficiently de-correlates layer activations and relevant experiments also show that such operation is of high efficiency compared with full batch normalization.\n",
    "\n",
    "For the layer, I referred to \"FitNet-4\" structure. Since it is said LSUV works quite well under this architecture according to the paper. However, I simplified the structure quite a lot to gain a rough idea and most importantly, to save time. \n",
    "\n",
    "Stage 1, 32*3*3 Convolution twice, a 2*2 MaxPooling and a Dropout(0.5)\n",
    "\n",
    "Stage 2, 80*3*3 Convolution twice, a 2*2 MaxPooling and a Dropout(0.5)\n",
    "\n",
    "Stage 3, 128*3*3 Convolution twice, a 4*4 AveragePooling and a Dropout(0.5)\n",
    "\n",
    "Stage 4, flatten, dense, a Dropout(0.5) and softmax\n",
    "\n",
    "## Results\n",
    "\n",
    "I made quite a lot of experiments regarding this question. \n",
    "#### 1. Randomly use a model through internet to gain some insights. The dropout is 0.25.  \n",
    "    Model can be referred at https://github.com/fchollet/keras/blob/master/examples/cifar10_cnn.py  \n",
    "    Unfortunately, I lost the training accuracy and test accuracy...  \n",
    "    But mark down that the training accuracy was quite high while the test accuracy was quite low.  \n",
    "    Seems like an issues of overfitting.  \n",
    "    \n",
    "#### 2. Randomly use a model through internet to gain some insights. The dropout is 0.25.  \n",
    "    Model can be referred at https://github.com/fchollet/keras/blob/master/examples/cifar10_cnn.py  \n",
    "    This time, I added the LSUV to process the data.  \n",
    "    Training accuracy of the first few predictions is 0.90696, while the test accuracy is 0.8033.  \n",
    "    Both accuracies were higher than first trial. Seems like LSUV works.  \n",
    "    Still an issues of overfitting.\n",
    "    \n",
    "#### 3.  Use a simplified FitNet-4. Use LSUV. The dropout is 0.5.\n",
    "\n",
    "    Stage 1, 32*3*3 Convolution twice, a 2*2 MaxPooling and a Dropout(0.5)\n",
    "    \n",
    "    Stage 2, 80*3*3 Convolution twice, a 2*2 MaxPooling and a Dropout(0.5)\n",
    "    \n",
    "    Stage 3, 128*3*3 Convolution twice, a 4*4 AveragePooling and a Dropout(0.5)\n",
    "    \n",
    "    Stage 4, flatten, dense, a Dropout(0.5) and softmax\n",
    "    \n",
    "    Model can be referred at https://arxiv.org/pdf/1511.06422v7.pdf  \n",
    "    Training accuracy of the first few predictions is 0.91238, while the test accuracy is 0.8398.  \n",
    "    Test accuracy was higher than previous trial.Seems like FitNet-4 works.  \n",
    "    Issue of overfitting gets improvement.\n",
    "    \n",
    "#### 4. Use a simplified FitNet-4. Use LSUV. The dropout is 0.5.\n",
    "\n",
    "    Stage 1, 32*3*3 Convolution twice, 48*3*3 Convolution once, a 2*2 MaxPooling and a Dropout(0.5)\n",
    "    \n",
    "    Stage 2, 80*3*3 Convolution twice, a 2*2 MaxPooling and a Dropout(0.5)\n",
    "    \n",
    "    Stage 3, 128*3*3 Convolution twice, a GlobalMaxPooling and a Dropout(0.5)\n",
    "    \n",
    "    Stage 4, dense, a Dropout(0.5) and softmax\n",
    "    \n",
    "    Model can be referred at https://arxiv.org/pdf/1511.06422v7.pdf  \n",
    "    Didn't finish the training. According to the observation for the first 20 epochs, the training efficiency was quite low.  \n",
    "    For the third trial, val_acc: 0.6588  \n",
    "    For this trial, val_acc: 0.1964  \n",
    "    I suppose the reason behind that is the use of GlobalMaxPooling, which is for spatial data. According to FitNet-4, global pooling should be applied at the last step. However, since my simplified model structure did not consist so many layers, thus the data after processed  was not that sparse. Thus, I decide that GlobalMaxPooling should not be adopted in my model.\n",
    "\n",
    "#### 5. Use a simplified FitNet-4. But add several more layers compared to the one of the third trial. Use LSUV. The dropout is 0.5.\n",
    "\n",
    "    Stage 1, 32*3*3 Convolution trice, a 2*2 MaxPooling and a Dropout(0.5)\n",
    "    \n",
    "    Stage 2, 80*3*3 Convolution twice, a 2*2 MaxPooling and a Dropout(0.5)\n",
    "    \n",
    "    Stage 3, 128*3*3 Convolution trice, a 2*2 AveragePooling and a Dropout(0.5)\n",
    "    \n",
    "    Stage 4, flatten, dense, a Dropout(0.5) and softmax\n",
    "    \n",
    "    Model can be referred at https://arxiv.org/pdf/1511.06422v7.pdf  \n",
    "    Training accuracy of the first few predictions is 0.94348, while the test accuracy is 0.8339.  \n",
    "    Test accuracy is almost the same compared to the third trial. However, the training accuracy is too high.  \n",
    "    Issue of overfitting.\n",
    "   \n",
    "\n",
    "## Conclusion\n",
    "\n",
    "The third and the fifth trial perform the best among what I have tried. Compared to the third model, the fifth one has more layers and is more complicated. The time to train the data using this model is also higher as expected. However, the result of test accuracy is not as high as the third one. Therefore, I consider the third model to be the best, due to less training time and higher test accuracy. I learn from the experiment that test accuracy won't definitely increase along with the number of layers used in the model. And the issue of overfitting should be fixed so as to improve the test accuracy. I also acquire some information from other papers that Bayesian Optimization can be used to process the data and improve the training result (https://arxiv.org/pdf/1502.05700v2.pdf). Maybe I can combine the Bayesian Optimization into my model next time. \n",
    "\n",
    "\n",
    "## References\n",
    "1. <fchollet/keras> https://github.com/fchollet/keras/blob/master/examples/cifar10_cnn.py\n",
    "2. <ALL YOU NEED IS A GOOD INIT> https://arxiv.org/pdf/1511.06422v7.pdf\n",
    "3. <Scalable Bayesian Optimization Using Deep Neural Networks> https://arxiv.org/pdf/1502.05700v2.pdf\n",
    "4. <ducha-aiki/LSUV-keras> https://github.com/ducha-aiki/LSUV-keras  \n",
    "    @ARTICLE{LSUVInit2015,\n",
    "    author = {{Mishkin}, D. and {Matas}, J.},\n",
    "    title = \"{All you need is a good init}\",\n",
    "    journal = {arXiv preprint arXiv:1511.06422},\n",
    "    year = 2015,\n",
    "    month = nov\n",
    "    }"
   ]
  }
 ],
 "metadata": {
  "anaconda-cloud": {},
  "celltoolbar": "Slideshow",
  "kernelspec": {
   "display_name": "Python 3",
   "language": "python",
   "name": "python3"
  },
  "language_info": {
   "codemirror_mode": {
    "name": "ipython",
    "version": 3
   },
   "file_extension": ".py",
   "mimetype": "text/x-python",
   "name": "python",
   "nbconvert_exporter": "python",
   "pygments_lexer": "ipython3",
   "version": "3.5.2"
  },
  "name": "_merged"
 },
 "nbformat": 4,
 "nbformat_minor": 0
}
