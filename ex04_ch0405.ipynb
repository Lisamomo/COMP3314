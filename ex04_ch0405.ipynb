{
 "cells": [
  {
   "cell_type": "markdown",
   "metadata": {},
   "source": [
    "# Assignment 4 - dimensionality reduction\n",
    "\n",
    "This assignment focuses on two different ways for dimensionality reduction:\n",
    "* feature selection\n",
    "* feature extraction\n",
    "\n",
    "This assignment has weighting $1.5$."
   ]
  },
  {
   "cell_type": "markdown",
   "metadata": {
    "slideshow": {
     "slide_type": "slide"
    }
   },
   "source": [
    "# Sequential feature selection (50 points)\n",
    "\n",
    "There is a sample code in PML chapter 4 for sequential bardward selection (SBS) and its application to subsequent KNN classifier.\n",
    "\n",
    "Implement sequential forward selection (SFS), and compare it with sequential backward selection by plotting the accuracy versus the number of features.\n",
    "\n",
    "You can start with the sample code provided in the [slides](http://nbviewer.jupyter.org/github/1iyiwei/pyml/blob/master/code/ch04/ch04.ipynb).\n",
    "You can extend the existing SBS class to handle both forward and backward selection, or implement a separate class for SFS.\n",
    "Plot and compare the two accuracy versus number-of-features plots for SFS and SBS.\n",
    "\n",
    "Use the wine dataset as follows."
   ]
  },
  {
   "cell_type": "code",
   "execution_count": 113,
   "metadata": {
    "collapsed": false,
    "scrolled": true,
    "slideshow": {
     "slide_type": "fragment"
    }
   },
   "outputs": [],
   "source": [
    "import pandas as pd\n",
    "\n",
    "wine_data_remote = 'https://archive.ics.uci.edu/ml/machine-learning-databases/wine/wine.data'\n",
    "wine_data_local = '../datasets/wine/wine.data'\n",
    "\n",
    "df_wine = pd.read_csv(wine_data_remote,\n",
    "                      header=None)\n",
    "\n",
    "df_wine.columns = ['Class label', 'Alcohol', 'Malic acid', 'Ash',\n",
    "                   'Alcalinity of ash', 'Magnesium', 'Total phenols',\n",
    "                   'Flavanoids', 'Nonflavanoid phenols', 'Proanthocyanins',\n",
    "                   'Color intensity', 'Hue', 'OD280/OD315 of diluted wines',\n",
    "                   'Proline']\n",
    "\n",
    "#print('Class labels', np.unique(df_wine['Class label']))\n",
    "#df_wine.head()"
   ]
  },
  {
   "cell_type": "code",
   "execution_count": 114,
   "metadata": {
    "collapsed": true,
    "slideshow": {
     "slide_type": "fragment"
    }
   },
   "outputs": [],
   "source": [
    "from sklearn import __version__ as skv\n",
    "from distutils.version import LooseVersion as CheckVersion\n",
    "if CheckVersion(skv) < '0.18':\n",
    "    from sklearn.cross_validation import train_test_split\n",
    "else:\n",
    "    from sklearn.model_selection import train_test_split\n",
    "\n",
    "X, y = df_wine.iloc[:, 1:].values, df_wine.iloc[:, 0].values\n",
    "\n",
    "X_train, X_test, y_train, y_test = \\\n",
    "    train_test_split(X, y, test_size=0.3, random_state=0)"
   ]
  },
  {
   "cell_type": "code",
   "execution_count": 115,
   "metadata": {
    "collapsed": true,
    "slideshow": {
     "slide_type": "fragment"
    }
   },
   "outputs": [],
   "source": [
    "from sklearn.preprocessing import StandardScaler\n",
    "\n",
    "stdsc = StandardScaler()\n",
    "X_train_std = stdsc.fit_transform(X_train)\n",
    "X_test_std = stdsc.transform(X_test)"
   ]
  },
  {
   "cell_type": "markdown",
   "metadata": {
    "slideshow": {
     "slide_type": "subslide"
    }
   },
   "source": [
    "## Answer"
   ]
  },
  {
   "cell_type": "markdown",
   "metadata": {
    "slideshow": {
     "slide_type": "fragment"
    }
   },
   "source": [
    "Implement your sequential backward selection class here, either as a separate class or by extending the SBS class that can handle both forward and backward selection (via an input parameter to indicate the direction)."
   ]
  },
  {
   "cell_type": "code",
   "execution_count": 116,
   "metadata": {
    "collapsed": false
   },
   "outputs": [],
   "source": [
    "from sklearn.metrics import accuracy_score\n",
    "from sklearn.base import clone\n",
    "from itertools import combinations\n",
    "import numpy as np\n",
    "\n",
    "class SBS():\n",
    "    def __init__(self, estimator, k_features, scoring=accuracy_score, test_size=0.25, random_state=1):\n",
    "        self.scoring = scoring\n",
    "        self.estimator = clone(estimator)\n",
    "        self.k_features = k_features\n",
    "        self.test_size = test_size\n",
    "        self.random_state = random_state\n",
    "\n",
    "    def fit(self, X, y):\n",
    "        \n",
    "        X_train, X_test, y_train, y_test = train_test_split(X, y, test_size=self.test_size, random_state=self.random_state)\n",
    "        \n",
    "        dim = X_train.shape[1]\n",
    "        self.indices_ = tuple(range(dim))\n",
    "        self.subsets_ = [self.indices_]\n",
    "        score = self._calc_score(X_train, y_train, X_test, y_test, self.indices_)\n",
    "        self.scores_ = [score]\n",
    "\n",
    "        while dim > self.k_features:\n",
    "            scores = []\n",
    "            subsets = []\n",
    "\n",
    "            for p in combinations(self.indices_, r=dim - 1):\n",
    "                score = self._calc_score(X_train, y_train, X_test, y_test, p)\n",
    "                scores.append(score)\n",
    "                subsets.append(p)\n",
    "\n",
    "            best = np.argmax(scores)\n",
    "            self.indices_ = subsets[best]\n",
    "            self.subsets_.append(self.indices_)\n",
    "            dim -= 1\n",
    "\n",
    "            self.scores_.append(scores[best])\n",
    "        self.k_score_ = self.scores_[-1]\n",
    "\n",
    "        return self\n",
    "\n",
    "    def transform(self, X):\n",
    "        return X[:, self.indices_]\n",
    "\n",
    "    def _calc_score(self, X_train, y_train, X_test, y_test, indices):\n",
    "        self.estimator.fit(X_train[:, indices], y_train)\n",
    "        y_pred = self.estimator.predict(X_test[:, indices])\n",
    "        score = self.scoring(y_test, y_pred)\n",
    "        return score"
   ]
  },
  {
   "cell_type": "code",
   "execution_count": 117,
   "metadata": {
    "collapsed": false
   },
   "outputs": [],
   "source": [
    "class SFS():\n",
    "    def __init__(self, estimator, k_features, scoring=accuracy_score, test_size=0.25, random_state=1):\n",
    "        self.scoring = scoring\n",
    "        self.estimator = clone(estimator)\n",
    "        self.k_features = k_features\n",
    "        self.test_size = test_size\n",
    "        self.random_state = random_state\n",
    "\n",
    "    def fit(self, X, y):\n",
    "        \n",
    "        X_train, X_test, y_train, y_test = train_test_split(X, y, test_size=self.test_size, random_state=self.random_state)\n",
    "        \n",
    "        dim = X_train.shape[1]\n",
    "        self.indices_ = tuple(range(dim))\n",
    "        self.subsets_ = []\n",
    "        self.scores_ = []\n",
    "        indices_ = []\n",
    "\n",
    "        if dim >= self.k_features:\n",
    "            while len(self.subsets_) < self.k_features:\n",
    "                scores = []\n",
    "                subsets = []\n",
    "                \n",
    "                for p in combinations(tuple(list(set(self.indices_)-set(indices_))), 1):\n",
    "                    score = self._calc_score(X_train, y_train, X_test, y_test, p+tuple(indices_))\n",
    "                    scores.append(score)\n",
    "                    subsets.append(p+tuple(indices_))\n",
    "                best = np.argmax(scores)\n",
    "                indices_ = subsets[best]\n",
    "                self.subsets_.append(indices_)               \n",
    "                self.scores_.append(scores[best])\n",
    "\n",
    "        self.k_score_ = self.scores_[-1]\n",
    "                \n",
    "        return self\n",
    "\n",
    "    def transform(self, X):\n",
    "        return X[:, self.indices_]\n",
    "\n",
    "    def _calc_score(self, X_train, y_train, X_test, y_test, indices):\n",
    "        self.estimator.fit(X_train[:, indices], y_train)\n",
    "        y_pred = self.estimator.predict(X_test[:, indices])\n",
    "        score = self.scoring(y_test, y_pred)\n",
    "        return score"
   ]
  },
  {
   "cell_type": "markdown",
   "metadata": {
    "slideshow": {
     "slide_type": "fragment"
    }
   },
   "source": [
    "Apply your sequential forward/backward selection code to the KNN classifier with the wine data set, and plot the accuracy versus number-of-features curves for both.\n",
    "Describe the similarities and differences you can find, e.g. \n",
    "* do the two methods agree on the optimal number of features?\n",
    "* do the two methods have similar accuracy scores for each number of features?\n",
    "* etc."
   ]
  },
  {
   "cell_type": "code",
   "execution_count": 118,
   "metadata": {
    "collapsed": false,
    "slideshow": {
     "slide_type": "fragment"
    }
   },
   "outputs": [
    {
     "name": "stdout",
     "output_type": "stream",
     "text": [
      "Index(['Alcohol', 'Malic acid', 'Alcalinity of ash', 'Hue', 'Proline'], dtype='object')\n",
      "Index(['Total phenols', 'Alcohol', 'Color intensity'], dtype='object')\n"
     ]
    },
    {
     "data": {
      "image/png": "[encoded data removed]",
      "text/plain": [
       "<matplotlib.figure.Figure at 0x2e3c99854e0>"
      ]
     },
     "metadata": {},
     "output_type": "display_data"
    }
   ],
   "source": [
    "%matplotlib inline\n",
    "import matplotlib.pyplot as plt\n",
    "from sklearn.neighbors import KNeighborsClassifier\n",
    "\n",
    "knn = KNeighborsClassifier(n_neighbors=2)\n",
    "\n",
    "# selecting features\n",
    "sbs = SBS(knn, k_features=1)\n",
    "sfs = SFS(knn, k_features=13)\n",
    "sbs.fit(X_train_std, y_train)\n",
    "sfs.fit(X_train_std, y_train)\n",
    "\n",
    "# list several most important features\n",
    "k5_sbs = list(sbs.subsets_[8]) # 5+8 = 13\n",
    "k3_sfs = list(sfs.subsets_[2])\n",
    "print(df_wine.columns[1:][k5_sbs])\n",
    "print(df_wine.columns[1:][k3_sfs])\n",
    "\n",
    "# plotting performance of feature subsets\n",
    "k_feat_sbs = [len(k) for k in sbs.subsets_]\n",
    "k_feat_sfs = [len(k) for k in sfs.subsets_]\n",
    "plt.plot(k_feat_sbs, sbs.scores_, marker='o')\n",
    "\n",
    "plt.plot(k_feat_sfs, sfs.scores_, marker='x', color='red')\n",
    "plt.ylim([0.7, 1.1])\n",
    "plt.ylabel('Accuracy')\n",
    "plt.xlabel('Number of features')\n",
    "plt.grid()\n",
    "plt.tight_layout()\n",
    "\n",
    "plt.show()"
   ]
  },
  {
   "cell_type": "markdown",
   "metadata": {},
   "source": [
    "SBS and SFS don't agree on the optimal number of features, with 5 and 3 respectively. And the optimal features are almost different.\n",
    "These two methods share similar accuracy scores for each number of features, which could be inferred from the table. And the trends of accuracy scores regarding the number of features are very similar. For both methods, the optimal accuray scores are very close to 1."
   ]
  },
  {
   "cell_type": "markdown",
   "metadata": {
    "slideshow": {
     "slide_type": "slide"
    }
   },
   "source": [
    "# PCA versus LDA (50 points)\n",
    "\n",
    "We have learned two different methods for feature extraction, PCA (unsupervised) and LDA (supervised).\n",
    "\n",
    "Under what circumstances would PCA and LDA produce very different results? \n",
    "\n",
    "Provide one example dataset in 2D, analyze it via PCA and LDA, and plot it with the PCA and LDA components.\n",
    "\n",
    "You can use code from the scikit-learn library."
   ]
  },
  {
   "cell_type": "markdown",
   "metadata": {
    "slideshow": {
     "slide_type": "subslide"
    }
   },
   "source": [
    "## Answer"
   ]
  },
  {
   "cell_type": "code",
   "execution_count": 119,
   "metadata": {
    "collapsed": true,
    "slideshow": {
     "slide_type": "skip"
    }
   },
   "outputs": [],
   "source": [
    "%matplotlib inline"
   ]
  },
  {
   "cell_type": "markdown",
   "metadata": {
    "slideshow": {
     "slide_type": "fragment"
    }
   },
   "source": [
    "Write code to produce your own dataset in 2D.\n",
    "You are free to design relative characteristics like the number of class, the number of samples for each class, as long as your dataset could be analyzed via PCA and LDA."
   ]
  },
  {
   "cell_type": "code",
   "execution_count": 120,
   "metadata": {
    "collapsed": true
   },
   "outputs": [],
   "source": [
    "import random\n",
    "rank = [3 for i in range(33)] + [2 for i in range(33)] + [1 for i in range(34)]\n",
    "appearance = [round(random.uniform(0,10),2) for i in range(1,101)]\n",
    "taste = [round(random.uniform(0,3),2) for i in range(33)] + [round(random.uniform(3,6),2) for i in range(33)] + [round(random.uniform(6,10),2) for i in range(34)]\n",
    "d = {'Rank' : rank,\n",
    "     'taste' : taste,\n",
    "     'appearance' : appearance}\n",
    "df_dessert = pd.DataFrame(d)\n",
    "\n",
    "from sklearn.preprocessing import StandardScaler\n",
    "sc = StandardScaler()\n",
    "X, y = df_dessert.iloc[:, 1:].values, df_dessert.iloc[:, 0].values\n",
    "X_std = sc.fit_transform(X)"
   ]
  },
  {
   "cell_type": "markdown",
   "metadata": {
    "slideshow": {
     "slide_type": "fragment"
    }
   },
   "source": [
    "Plot your data set, with different classes in different marker colors and/or shapes.\n",
    "\n",
    "You can write your own plot code or use existing library plot code."
   ]
  },
  {
   "cell_type": "code",
   "execution_count": 121,
   "metadata": {
    "collapsed": false
   },
   "outputs": [
    {
     "data": {
      "image/png": "[encoded data removed]",
      "text/plain": [
       "<matplotlib.figure.Figure at 0x2e3cb040ba8>"
      ]
     },
     "metadata": {},
     "output_type": "display_data"
    }
   ],
   "source": [
    "X_plot = X_std\n",
    "\n",
    "colors = ['r', 'b','g']\n",
    "markers = ['s', 'x','o']\n",
    "\n",
    "for l, c, m in zip(np.unique(y), colors, markers):\n",
    "    plt.scatter(X_plot[y == l, 0], X_plot[y == l, 1], c=c, label=l, marker=m)\n",
    "    \n",
    "plt.xlabel('x1')\n",
    "plt.ylabel('x2')\n",
    "plt.legend(loc='lower left')\n",
    "plt.tight_layout()\n",
    "plt.show()"
   ]
  },
  {
   "cell_type": "markdown",
   "metadata": {
    "slideshow": {
     "slide_type": "fragment"
    }
   },
   "source": [
    "Apply your dataset through PCA and LDA, and plot the projected data using the same plot code.\n",
    "Explain the differences you notice, and how you manage to construct your dataset to achieve such differences.\n",
    "\n",
    "You can use the PCA and LDA code from the scikit-learn library."
   ]
  },
  {
   "cell_type": "code",
   "execution_count": 122,
   "metadata": {
    "collapsed": false
   },
   "outputs": [
    {
     "data": {
      "image/png": "[encoded data removed]",
      "text/plain": [
       "<matplotlib.figure.Figure at 0x2e3cafe7b70>"
      ]
     },
     "metadata": {},
     "output_type": "display_data"
    }
   ],
   "source": [
    "from sklearn.decomposition import PCA\n",
    "\n",
    "pca = PCA(n_components=2)\n",
    "X_pca = pca.fit_transform(X_std)\n",
    "\n",
    "X_plot = X_pca\n",
    "\n",
    "colors = ['r', 'b','g']\n",
    "markers = ['s', 'x','o']\n",
    "\n",
    "for l, c, m in zip(np.unique(y), colors, markers):\n",
    "    plt.scatter(X_plot[y == l, 0], X_plot[y == l, 1], c=c, label=l, marker=m)\n",
    "    \n",
    "plt.xlabel('PCA 1')\n",
    "plt.ylabel('PCA 2')\n",
    "plt.legend(loc='lower left')\n",
    "plt.tight_layout()\n",
    "plt.show()"
   ]
  },
  {
   "cell_type": "code",
   "execution_count": 123,
   "metadata": {
    "collapsed": false
   },
   "outputs": [
    {
     "data": {
      "image/png": "[encoded data removed]",
      "text/plain": [
       "<matplotlib.figure.Figure at 0x2e3c97f99e8>"
      ]
     },
     "metadata": {},
     "output_type": "display_data"
    }
   ],
   "source": [
    "from sklearn.discriminant_analysis import LinearDiscriminantAnalysis as LDA\n",
    "\n",
    "lda = LDA(n_components=2)\n",
    "X_lda = lda.fit_transform(X_std, y)\n",
    "\n",
    "X_plot = X_lda\n",
    "\n",
    "colors = ['r', 'b','g']\n",
    "markers = ['s', 'x','o']\n",
    "\n",
    "for l, c, m in zip(np.unique(y), colors, markers):\n",
    "    plt.scatter(X_plot[y == l, 0], X_plot[y == l, 1], c=c, label=l, marker=m)\n",
    "    \n",
    "plt.xlabel('LDA 1')\n",
    "plt.ylabel('LDA 2')\n",
    "plt.legend(loc='lower left')\n",
    "plt.tight_layout()\n",
    "plt.show()"
   ]
  },
  {
   "cell_type": "markdown",
   "metadata": {},
   "source": [
    "As shown, the data transformed by PCA and LDA varies a lot. If the data is projected to 1D, then PCA will have a much worse performance compared to LDA. \n",
    "My method to construct the dataset is to make the class category mainly dependent on just one variable."
   ]
  }
 ],
 "metadata": {
  "anaconda-cloud": {},
  "kernelspec": {
   "display_name": "Python 3",
   "language": "python",
   "name": "python3"
  },
  "language_info": {
   "codemirror_mode": {
    "name": "ipython",
    "version": 3
   },
   "file_extension": ".py",
   "mimetype": "text/x-python",
   "name": "python",
   "nbconvert_exporter": "python",
   "pygments_lexer": "ipython3",
   "version": "3.5.2"
  },
  "name": "_merged"
 },
 "nbformat": 4,
 "nbformat_minor": 0
}
