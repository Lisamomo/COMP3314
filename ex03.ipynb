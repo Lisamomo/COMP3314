{
 "cells": [
  {
   "cell_type": "markdown",
   "metadata": {
    "slideshow": {
     "slide_type": "slide"
    }
   },
   "source": [
    "# Assignment 3 - basic classifiers\n",
    "\n",
    "Math practice and coding application for main classifiers introduced in Chapter 3 of the Python machine learning book. "
   ]
  },
  {
   "cell_type": "markdown",
   "metadata": {
    "slideshow": {
     "slide_type": "subslide"
    }
   },
   "source": [
    "## Weighting\n",
    "\n",
    "Note that this assignment is more difficult than the previous ones, and thus has a higher weighting 3 and longer duration (3 weeks). Each one of the previous two assignments has a weighting 1.\n",
    "\n",
    "Specifically, the first 3 assignments contribute to your continuous assessment as follows:\n",
    "\n",
    "Assignment weights: $w_1 = 1, w_2 = 1, w_3 = 3$\n",
    "\n",
    "Assignment grades: $g_1, g_2, g_3$\n",
    "\n",
    "Weighted average: $\\frac{1}{\\sum_i w_i} \\times \\sum_i \\left(w_i \\times g_i \\right)$\n",
    "\n",
    "Future assignments will be added analogously."
   ]
  },
  {
   "cell_type": "markdown",
   "metadata": {
    "slideshow": {
     "slide_type": "slide"
    }
   },
   "source": [
    "# RBF kernel (20 points)\n",
    "\n",
    "Show that a Gaussian RBF kernel can be expressed as a dot product:\n",
    "$$\n",
    "K(\\mathbf{x}, \\mathbf{y}) \n",
    "= e^\\frac{-|\\mathbf{x} - \\mathbf{y}|^2}{2} \n",
    "= \\phi(\\mathbf{x})^T \\phi(\\mathbf{y})\n",
    "$$\n",
    "by spelling out the mapping function $\\phi$.\n",
    "\n",
    "For simplicity\n",
    "* you can assume both $\\mathbf{x}$ and $\\mathbf{y}$ are 2D vectors\n",
    "$\n",
    "x =\n",
    "\\begin{pmatrix}\n",
    "x_1 \\\\\n",
    "x_2\n",
    "\\end{pmatrix}\n",
    ", \\;\n",
    "y =\n",
    "\\begin{pmatrix}\n",
    "y_1 \\\\\n",
    "y_2\n",
    "\\end{pmatrix}\n",
    "$\n",
    "* we use a scalar unit variance here\n",
    "\n",
    "even though the proof can be extended for vectors $\\mathbf{x}$ $\\mathbf{y}$ and general covariance matrices.\n",
    "\n",
    "Hint: use Taylor series expansion of the exponential function"
   ]
  },
  {
   "cell_type": "markdown",
   "metadata": {
    "slideshow": {
     "slide_type": "fragment"
    }
   },
   "source": [
    "$K(\\mathbf{x}, \\mathbf{y}) = e^\\frac{-|\\mathbf{x} - \\mathbf{y}|^2}{2} = e^{-\\frac{||\\mathbf{x}||^2}{2}} \\times e^{-\\frac{||\\mathbf{y}||^2}{2}} \\times e^{{x}^T {y}} = e^{-\\frac{||\\mathbf{x}||^2}{2}} \\times e^{-\\frac{||\\mathbf{y}||^2}{2}} \\times\\sum\\limits^{\\infty}_{n=0}\\frac{({x}^T {y})^n}{n!} = e^{-\\frac{||\\mathbf{x}||^2}{2}}\\times e^{-\\frac{||\\mathbf{y}||^2}{2}}\\times K_{poly}(x,y)$ \n",
    "\n",
    "$K_{poly}(x)$ corresponds to the following kernel function: \n",
    "$\\phi^*(x) = [1, x_1, x_2, \\frac{{x_1}^{2}}{\\sqrt{2}}, \\frac{{x_2}^{2}}{\\sqrt{2}},x_1x_2, ...]$\n",
    "\n",
    "$\\phi(x) = e^{-\\frac{||\\mathbf{x}||^2}{2}} \\times \\phi^*(x)= e^{-\\frac{||\\mathbf{x}||^2}{2}} \\times [1, x_1, x_2, \\frac{{x_1}^{2}}{\\sqrt{2}}, \\frac{{x_2}^{2}}{\\sqrt{2}},x_1x_2, ...]$\n",
    "\n",
    "To be specific , $\\phi^*(x) = \\left((k!) (n-k)!\\right)^{-0.5} x_1^k x_2^{n-k}$, where $ k \\in [0, n], n \\in [0, \\infty]$"
   ]
  },
  {
   "cell_type": "markdown",
   "metadata": {
    "slideshow": {
     "slide_type": "slide"
    }
   },
   "source": [
    "# Kernel SVM complexity (10 points)\n",
    "\n",
    "How would the complexity (in terms of number of parameters) of a trained kernel SVM change with the amount of training data, and why?\n",
    "Note that the answer may depend on the specific kernel used as well as the amount of training data.\n",
    "Consider specifically the following types of kernels $K(\\mathbf{x}, \\mathbf{y})$.\n",
    "* linear:\n",
    "$$\n",
    "K\\left(\\mathbf{x}, \\mathbf{y}\\right) = \\mathbf{x}^T \\mathbf{y}\n",
    "$$\n",
    "* polynomial with degree $q$:\n",
    "$$\n",
    "K\\left(\\mathbf{x}, \\mathbf{y}\\right) =\n",
    "(\\mathbf{x}^T\\mathbf{y} + 1)^q\n",
    "$$\n",
    "* RBF with distance function $D$:\n",
    "$$\n",
    "K\\left(\\mathbf{x}, \\mathbf{y} \\right) = e^{-\\frac{D\\left(\\mathbf{x}, \\mathbf{y} \\right)}{2s^2}}\n",
    "$$\n"
   ]
  },
  {
   "cell_type": "markdown",
   "metadata": {
    "collapsed": true,
    "slideshow": {
     "slide_type": "fragment"
    }
   },
   "source": [
    "Let n be the training data and d be the dimension of x.\n",
    "\n",
    "For linear kernel, the complexity is is O(nd). The complexity will become larger linearly with the increase of amount of training data.\n",
    "\n",
    "For polynomial kernel with degree  q , the complexity is is O($nd^q$). The complexity will become larger linearly with the increase of amount of training data.\n",
    "\n",
    "For RBF with distance function  D kernel, the complexity is shown to be infinity by expressing the kernel as a dot product. The complexity will remain infinity with the change of amount of training data."
   ]
  },
  {
   "cell_type": "markdown",
   "metadata": {
    "slideshow": {
     "slide_type": "slide"
    }
   },
   "source": [
    "# Gaussian density Bayes (30 points)\n",
    "\n",
    "$$\n",
    "p\\left(\\Theta | \\mathbf{X}\\right)\n",
    "= \n",
    "\\frac{p\\left(\\mathbf{X} | \\Theta\\right) p\\left(\\Theta\\right)}{p\\left(\\mathbf{X}\\right)}\n",
    "$$\n",
    "\n",
    "Assume both the likelihood and prior have Gaussian distributions:\n",
    "\n",
    "$$\n",
    "\\begin{align}\n",
    "p(\\mathbf{X} | \\Theta)\n",
    "&=\n",
    "\\frac{1}{(2\\pi)^{N/2}\\sigma^N} \\exp\\left(-\\frac{\\sum_{t=1}^N (\\mathbf{x}^{(t)} - \\Theta)^2}{2\\sigma^2}\\right)\n",
    "\\\\\n",
    "p(\\Theta)\n",
    "&=\n",
    "\\frac{1}{\\sqrt{2\\pi}\\sigma_0} \\exp\\left( -\\frac{(\\Theta - \\mu_0)^2}{2\\sigma_0^2} \\right)\n",
    "\\end{align}\n",
    "$$\n",
    "\n",
    "Derive $\\Theta$ from the dataset $\\mathbf{X}$ via the following methods:\n",
    "\n",
    "### ML (maximum likelihood) estimation \n",
    "$$\n",
    "\\Theta_{ML} = argmax_{\\Theta} p(\\mathbf{X} | \\Theta)\n",
    "$$\n",
    "\n",
    "### MAP estimation\n",
    "$$\n",
    "\\begin{align}\n",
    "\\Theta_{MAP} \n",
    "&= \n",
    "argmax_{\\Theta} p(\\Theta | \\mathbf{X})\n",
    "\\\\\n",
    "&=\n",
    "argmax_{\\Theta} p(\\mathbf{X} | \\Theta) p(\\Theta)\n",
    "\\end{align}\n",
    "$$\n",
    "\n",
    "### Bayes estimation\n",
    "\n",
    "$$\n",
    "\\begin{align}\n",
    "\\Theta_{Bayes} \n",
    "&= \n",
    "E(\\Theta | \\mathbf{X})\n",
    "\\\\\n",
    "&= \n",
    "\\int \\Theta p(\\Theta | \\mathbf{X}) d\\Theta\n",
    "\\end{align}\n",
    "$$"
   ]
  },
  {
   "cell_type": "markdown",
   "metadata": {
    "slideshow": {
     "slide_type": "fragment"
    }
   },
   "source": [
    "### ML (maximum likelihood) estimation\n",
    "\n",
    "\n",
    "$p(\\mathbf{X} | \\Theta )\\propto \\exp\\left(-\\frac{\\sum_{t=1}^N (\\mathbf{x}^{(t)} - \\Theta)^2}{2\\sigma^2}\\right)$\n",
    "\n",
    "\n",
    "To maximize $p(\\mathbf{X} | \\Theta ) \\Leftrightarrow$ maximize $-\\frac{\\sum_{t=1}^N (\\mathbf{x}^{(t)} - \\Theta)^2}{2\\sigma^2}\\Leftrightarrow$ minimize $\\sum_{t=1}^N (\\mathbf{x}^{(t)} - \\Theta)^2$\n",
    "\n",
    "$\\frac{\\partial}{\\partial \\Theta}\\sum_{t=1}^N (\\mathbf{x}^{(t)} - \\Theta)^2=0 \\Leftrightarrow \\Theta = \\bar{x}$\n",
    "\n",
    "### MAP estimation\n",
    "\n",
    "$p(\\mathbf{X}| \\Theta) p(\\Theta) \\propto \\exp\\left(-\\left(\\frac{\\sum_{t=1}^N (\\mathbf{x}^{(t)} - \\Theta)^2}{2\\sigma^2}+\\frac{(\\Theta - \\mu_0)^2}{2\\sigma_0^2}\\right)\\right)$\n",
    "\n",
    "\n",
    "To maximize $p(\\mathbf{X}| \\Theta) p(\\Theta) \\Leftrightarrow$ maximize $-\\left(\\frac{\\sum_{t=1}^N (\\mathbf{x}^{(t)} - \\Theta)^2}{2\\sigma^2}+\\frac{(\\Theta - \\mu_0)^2}{2\\sigma_0^2}\\right)\\Leftrightarrow$ minimize $\\frac{\\sum_{t=1}^N (\\mathbf{x}^{(t)} - \\Theta)^2}{2\\sigma^2}+\\frac{(\\Theta - \\mu_0)^2}{2\\sigma_0^2}$\n",
    "\n",
    "$\\frac{\\partial}{\\partial \\Theta}\\left(\\frac{\\sum_{t=1}^N (\\mathbf{x}^{(t)} - \\Theta)^2}{2\\sigma^2}+\\frac{(\\Theta - \\mu_0)^2}{2\\sigma_0^2}\\right)=0 \\Leftrightarrow \\Theta = \\frac{\\frac{\\mu_0}{\\sigma_0^2}+\\frac{N\\bar{x}}{\\sigma^2}}{\\frac{1}{\\sigma_0^2}+\\frac{N}{\\sigma^2}}$\n",
    "\n",
    "### Bayes estimation\n",
    "\n",
    "\n",
    "Since $\\sigma,\\sigma_0,\\mathbf{x}$ are fixed,\n",
    "\n",
    "\n",
    "$$\n",
    "\\begin{align}\n",
    "p(\\Theta | \\mathbf{X}) \n",
    "&\n",
    "\\propto p\\left(\\mathbf{X} | \\Theta\\right) p\\left(\\Theta\\right)\n",
    "\\\\\n",
    "&=\n",
    "\\frac{1}{(2\\pi)^{N/2}\\sigma^N} \\exp\\left(-\\frac{\\sum_{t=1}^N (\\mathbf{x}^{(t)} - \\Theta)^2}{2\\sigma^2}\\right) \\times \\frac{1}{\\sqrt{2\\pi}\\sigma_0} \\exp\\left( -\\frac{(\\Theta - \\mu_0)^2}{2\\sigma_0^2} \\right)\n",
    "\\\\\n",
    "&\\propto \n",
    "\\exp\\left(-\\frac{\\sum_{t=1}^N (\\mathbf{x}^{(t)} - \\Theta)^2}{2\\sigma^2}\\right) \\times \\exp\\left( -\\frac{(\\Theta - \\mu_0)^2}{2\\sigma_0^2} \\right)\n",
    "\\\\\n",
    "&=\n",
    "\\exp\\left(-\\left(\\frac{\\sum_{t=1}^N (\\mathbf{x}^{(t)} - \\Theta)^2}{2\\sigma^2} + \\frac{(\\Theta - \\mu_0)^2}{2\\sigma_0^2} \\right)\\right)\n",
    "\\\\\n",
    "&=\n",
    "\\exp\\left(-\\left(\\frac{\\sum_{t=1}^N (\\mathbf{x}^{(t)} - \\bar{x} + \\bar{x} - \\Theta)^2}{2\\sigma^2} + \\frac{(\\Theta - \\mu_0)^2}{2\\sigma_0^2} \\right)\\right)\n",
    "\\\\\n",
    "&=\n",
    "\\exp\\left(-\\left(\\frac{\\sum_{t=1}^N (\\mathbf{x}^{(t)} - \\bar{x})^2 + N(\\bar{x} - \\Theta)^2  + 2(\\bar{x} - \\Theta)\\sum_{t=1}^N (\\mathbf{x}^{(t)} - \\bar{x})}{2\\sigma^2}+ \\frac{(\\Theta - \\mu_0)^2}{2\\sigma_0^2} \\right)\\right)\n",
    "\\\\\n",
    "&=\n",
    "\\exp\\left(-\\left(\\frac{\\sum_{t=1}^N (\\mathbf{x}^{(t)} - \\bar{x})^2 + N(\\bar{x} - \\Theta)^2 }{2\\sigma^2}+ \\frac{(\\Theta - \\mu_0)^2}{2\\sigma_0^2} \\right)\\right)\n",
    "\\\\\n",
    "&=\n",
    "\\exp\\left(-\\frac{\\sum_{t=1}^N (\\mathbf{x}^{(t)} - \\bar{x})^2}{2\\sigma^2}\\right) \\times \\exp\\left(-\\left(\\frac{N(\\bar{x} - \\Theta)^2 }{2\\sigma^2}+ \\frac{(\\Theta - \\mu_0)^2}{2\\sigma_0^2} \\right)\\right)\n",
    "\\\\\n",
    "&\\propto\n",
    "\\exp\\left(-\\left(\\frac{N(\\bar{x} - \\Theta)^2 }{2\\sigma^2}+ \\frac{(\\Theta - \\mu_0)^2}{2\\sigma_0^2} \\right)\\right)\n",
    "\\\\\n",
    "&=\n",
    "\\exp\\left(-\\left(\\theta^2(\\frac{N}{2\\sigma^2}+\\frac{1}{2\\sigma_0^2})-\\theta(\\frac{N\\bar{x}}{\\sigma^2}+\\frac{\\mu_0}{\\sigma_0^2})+\\frac{N\\bar{x}^2}{2\\sigma^2}+\\frac{\\mu_0^2}{2\\sigma_0^2}\\right)\\right)\n",
    "\\\\\n",
    "&=\n",
    "\\exp\\left(-\\frac{1}{2}\\left(\\theta^2(\\frac{N}{\\sigma^2}+\\frac{1}{\\sigma_0^2})-2\\theta(\\frac{N\\bar{x}}{\\sigma^2}+\\frac{\\mu_0}{\\sigma_0^2})+\\frac{N\\bar{x}^2}{\\sigma^2}+\\frac{\\mu_0^2}{\\sigma_0^2}\\right)\\right)\n",
    "\\\\\n",
    "&\\propto\n",
    "\\exp\\left(-\\frac{1}{2}\\left(\\theta^2(\\frac{N}{\\sigma^2}+\\frac{1}{\\sigma_0^2})-2\\theta(\\frac{N\\bar{x}}{\\sigma^2}+\\frac{\\mu_0}{\\sigma_0^2})\\right)\\right)\n",
    "\\\\\n",
    "&\\propto\n",
    "\\exp\\left(-\\frac{(\\theta-\\mu_0^*)^2}{2{\\sigma^*}^2}\\right)\n",
    "\\\\\n",
    "&\n",
    "where \\space \\mu_0^* = \\frac{\\frac{\\mu_0}{\\sigma_0^2}+\\frac{N\\bar{x}}{\\sigma^2}}{\\frac{1}{\\sigma_0^2}+\\frac{N}{\\sigma^2}},\\space {\\sigma^*}^2=\\frac{1}{\\frac{1}{\\sigma_0^2}+\\frac{N}{\\sigma^2}}\n",
    "\\end{align}\n",
    "$$\n",
    "\n",
    "According to the $p(\\Theta | \\mathbf{X})$, we can infer that  $\\Theta | \\mathbf{X}$ is a Normal distribution.\n",
    "Therefore, $\\Theta_{Bayes} =E(\\Theta | \\mathbf{X}) = \\mu_0^* = \\frac{\\frac{\\mu_0}{\\sigma_0^2}+\\frac{N\\bar{x}}{\\sigma^2}}{\\frac{1}{\\sigma_0^2}+\\frac{N}{\\sigma^2}}$\n"
   ]
  },
  {
   "cell_type": "markdown",
   "metadata": {
    "slideshow": {
     "slide_type": "slide"
    }
   },
   "source": [
    "# Hand-written digit classification (40 points)\n",
    "\n",
    "In the textbook sample code we applied different scikit-learn classifers for the Iris data set.\n",
    "\n",
    "In this exercise, we will apply the same set of classifiers over a different data set: hand-written digits.\n",
    "Please write down the code for different classifiers, choose their hyper-parameters, and compare their performance via the accuracy score as in the Iris dataset.\n",
    "Which classifier(s) perform(s) the best and worst, and why?\n",
    "\n",
    "The classifiers include:\n",
    "* perceptron\n",
    "* logistic regression\n",
    "* SVM\n",
    "* decision tree\n",
    "* random forest\n",
    "* KNN\n",
    "* naive Bayes\n",
    "\n",
    "The dataset is available as part of scikit learn, as follows."
   ]
  },
  {
   "cell_type": "markdown",
   "metadata": {
    "slideshow": {
     "slide_type": "fragment"
    }
   },
   "source": [
    "## Load data"
   ]
  },
  {
   "cell_type": "code",
   "execution_count": 12,
   "metadata": {
    "collapsed": false,
    "slideshow": {
     "slide_type": "fragment"
    }
   },
   "outputs": [
    {
     "name": "stdout",
     "output_type": "stream",
     "text": [
      "(1797, 64)\n",
      "(1797,)\n"
     ]
    }
   ],
   "source": [
    "from sklearn.datasets import load_digits\n",
    "digits = load_digits()\n",
    "\n",
    "X = digits.data # training data\n",
    "y = digits.target # training label\n",
    "\n",
    "print(X.shape)\n",
    "print(y.shape)"
   ]
  },
  {
   "cell_type": "markdown",
   "metadata": {
    "slideshow": {
     "slide_type": "fragment"
    }
   },
   "source": [
    "## Visualize data"
   ]
  },
  {
   "cell_type": "code",
   "execution_count": 13,
   "metadata": {
    "collapsed": false,
    "slideshow": {
     "slide_type": "fragment"
    }
   },
   "outputs": [
    {
     "data": {
      "text/plain": [
       "<matplotlib.figure.Figure at 0x206ccfc3d30>"
      ]
     },
     "metadata": {},
     "output_type": "display_data"
    },
    {
     "data": {
      "image/png": "[encoded data removed]",
      "text/plain": [
       "<matplotlib.figure.Figure at 0x206ccfc3e10>"
      ]
     },
     "metadata": {},
     "output_type": "display_data"
    }
   ],
   "source": [
    "%matplotlib inline\n",
    "import pylab as pl\n",
    "\n",
    "index = 13\n",
    "pl.gray()\n",
    "pl.matshow(digits.images[index])\n",
    "pl.title('digit ' + str(digits.target[index]))\n",
    "pl.show()"
   ]
  },
  {
   "cell_type": "markdown",
   "metadata": {
    "slideshow": {
     "slide_type": "fragment"
    }
   },
   "source": [
    "## Date Preprocessing\n",
    "Hint: How you divide training and test data set? And apply other techinques we have learned if needed.\n",
    "You could take a look at the Iris data set case in the textbook."
   ]
  },
  {
   "cell_type": "code",
   "execution_count": 14,
   "metadata": {
    "collapsed": false,
    "slideshow": {
     "slide_type": "fragment"
    }
   },
   "outputs": [],
   "source": [
    "#Your code comes here\n",
    "import numpy as np\n",
    "from sklearn.metrics import accuracy_score\n",
    "from sklearn.model_selection import train_test_split\n",
    "\n",
    "X_train, X_test, y_train, y_test = train_test_split(X, y, test_size = 0.3, random_state = 0)\n",
    "\n",
    "from sklearn.preprocessing import StandardScaler\n",
    "\n",
    "sc = StandardScaler()\n",
    "sc.fit(X_train)\n",
    "X_train_std = sc.transform(X_train)\n",
    "X_test_std = sc.transform(X_test)"
   ]
  },
  {
   "cell_type": "markdown",
   "metadata": {
    "slideshow": {
     "slide_type": "fragment"
    }
   },
   "source": [
    "## Classifier #1 Perceptron"
   ]
  },
  {
   "cell_type": "code",
   "execution_count": 15,
   "metadata": {
    "collapsed": false,
    "slideshow": {
     "slide_type": "fragment"
    }
   },
   "outputs": [
    {
     "name": "stdout",
     "output_type": "stream",
     "text": [
      "Accuracy: 0.93\n"
     ]
    }
   ],
   "source": [
    "#Your code, including traing and testing, to observe the accuracies.\n",
    "from sklearn.linear_model import Perceptron\n",
    "\n",
    "ppn = Perceptron(n_iter = 40, eta0 = 0.1, random_state = 0)\n",
    "_ = ppn.fit(X_train_std, y_train)\n",
    "y_pred = ppn.predict(X_test_std)\n",
    "print('Accuracy: %.2f' % accuracy_score(y_test, y_pred))"
   ]
  },
  {
   "cell_type": "markdown",
   "metadata": {
    "slideshow": {
     "slide_type": "fragment"
    }
   },
   "source": [
    "## Classifier #2 Logistic Regression"
   ]
  },
  {
   "cell_type": "code",
   "execution_count": 16,
   "metadata": {
    "collapsed": false,
    "slideshow": {
     "slide_type": "fragment"
    }
   },
   "outputs": [
    {
     "name": "stdout",
     "output_type": "stream",
     "text": [
      "Accuracy: 0.94\n"
     ]
    }
   ],
   "source": [
    "#Your code, including traing and testing, to observe the accuracies.\n",
    "from sklearn.linear_model import LogisticRegression\n",
    "\n",
    "lr = LogisticRegression(C = 1000, random_state = 0)\n",
    "_ = lr.fit(X_train_std, y_train)\n",
    "y_pred = lr.predict(X_test_std)\n",
    "print('Accuracy: %.2f' % accuracy_score(y_test, y_pred))"
   ]
  },
  {
   "cell_type": "markdown",
   "metadata": {
    "slideshow": {
     "slide_type": "fragment"
    }
   },
   "source": [
    "## Classifier #3 SVM"
   ]
  },
  {
   "cell_type": "code",
   "execution_count": 17,
   "metadata": {
    "collapsed": false,
    "slideshow": {
     "slide_type": "fragment"
    }
   },
   "outputs": [
    {
     "name": "stdout",
     "output_type": "stream",
     "text": [
      "Accuracy: 0.97\n"
     ]
    }
   ],
   "source": [
    "#Your code, including traing and testing, to observe the accuracies.\n",
    "from sklearn.svm import SVC\n",
    "\n",
    "svm = SVC(kernel = 'linear', C = 1.0, random_state = 0)\n",
    "_ = svm.fit(X_train_std, y_train)\n",
    "y_pred = svm.predict(X_test_std)\n",
    "print('Accuracy: %.2f' % accuracy_score(y_test, y_pred))"
   ]
  },
  {
   "cell_type": "markdown",
   "metadata": {
    "slideshow": {
     "slide_type": "fragment"
    }
   },
   "source": [
    "## Classifier #4 Decision Tree"
   ]
  },
  {
   "cell_type": "code",
   "execution_count": 18,
   "metadata": {
    "collapsed": false,
    "slideshow": {
     "slide_type": "fragment"
    }
   },
   "outputs": [
    {
     "name": "stdout",
     "output_type": "stream",
     "text": [
      "Accuracy: 0.82\n"
     ]
    }
   ],
   "source": [
    "#Your code, including traing and testing, to observe the accuracies.\n",
    "from sklearn.tree import DecisionTreeClassifier\n",
    "\n",
    "tree = DecisionTreeClassifier(criterion = 'entropy', max_depth = 7, random_state = 0)\n",
    "_ = tree.fit(X_train_std, y_train)\n",
    "y_pred = tree.predict(X_test_std)\n",
    "print('Accuracy: %.2f' % accuracy_score(y_test, y_pred))"
   ]
  },
  {
   "cell_type": "markdown",
   "metadata": {
    "slideshow": {
     "slide_type": "fragment"
    }
   },
   "source": [
    "## Classifer #5 Random Forest"
   ]
  },
  {
   "cell_type": "code",
   "execution_count": 19,
   "metadata": {
    "collapsed": false
   },
   "outputs": [
    {
     "name": "stdout",
     "output_type": "stream",
     "text": [
      "Accuracy: 0.97\n"
     ]
    }
   ],
   "source": [
    "#Your code, including traing and testing, to observe the accuracies.\n",
    "from sklearn.ensemble import RandomForestClassifier\n",
    "\n",
    "forest =RandomForestClassifier(criterion='entropy', n_estimators=100, random_state=0, n_jobs=2)\n",
    "_ = forest.fit(X_train_std, y_train)\n",
    "y_pred = forest.predict(X_test_std)\n",
    "print('Accuracy: %.2f' % accuracy_score(y_test, y_pred))"
   ]
  },
  {
   "cell_type": "markdown",
   "metadata": {
    "slideshow": {
     "slide_type": "fragment"
    }
   },
   "source": [
    "## Classifier #6 KNN"
   ]
  },
  {
   "cell_type": "code",
   "execution_count": 20,
   "metadata": {
    "collapsed": false
   },
   "outputs": [
    {
     "name": "stdout",
     "output_type": "stream",
     "text": [
      "Accuracy: 0.97\n"
     ]
    }
   ],
   "source": [
    "#Your code, including traing and testing, to observe the accuracies.\n",
    "from sklearn.neighbors import KNeighborsClassifier\n",
    "\n",
    "knn = KNeighborsClassifier(n_neighbors=10, p=2, metric='minkowski')\n",
    "knn.fit(X_train_std, y_train)\n",
    "y_pred = forest.predict(X_test_std)\n",
    "print('Accuracy: %.2f' % accuracy_score(y_test, y_pred))"
   ]
  },
  {
   "cell_type": "markdown",
   "metadata": {
    "slideshow": {
     "slide_type": "fragment"
    }
   },
   "source": [
    "## Classifier #7 Naive Bayes"
   ]
  },
  {
   "cell_type": "code",
   "execution_count": 21,
   "metadata": {
    "collapsed": false
   },
   "outputs": [
    {
     "name": "stdout",
     "output_type": "stream",
     "text": [
      "Accuracy: 0.77\n"
     ]
    }
   ],
   "source": [
    "#Your code, including traing and testing, to observe the accuracies.\n",
    "from sklearn.naive_bayes import GaussianNB\n",
    "\n",
    "gnb = GaussianNB()\n",
    "_ = gnb.fit(X_train_std, y_train)\n",
    "y_pred = gnb.predict(X_test_std)\n",
    "print('Accuracy: %.2f' % accuracy_score(y_test, y_pred))"
   ]
  },
  {
   "cell_type": "markdown",
   "metadata": {
    "slideshow": {
     "slide_type": "fragment"
    }
   },
   "source": [
    "Among the classifiers, SVM, Random Forest, KNN perform the best and Naive Bayes perform the worst.\n",
    " \n",
    "For SVM, it maximizes margins to nearest samples and is more robust against outliers.\n",
    " \n",
    "For Random Forest, it is somehow a kind of ensemble of decision tree. It combines weak learners to build a more robust model and thus has a better generalization error and is less susceptible to overfitting.\n",
    " \n",
    "For KNN, it deterimines the class label of a new data point by a majority vote among its k nearest neighbours.\n",
    "\n",
    "However, for Naive Bayes, it assumes the features are independent for the likelihood, which might not be true in practice."
   ]
  }
 ],
 "metadata": {
  "anaconda-cloud": {},
  "celltoolbar": "Slideshow",
  "kernelspec": {
   "display_name": "Python 3",
   "language": "python",
   "name": "python3"
  },
  "language_info": {
   "codemirror_mode": {
    "name": "ipython",
    "version": 3
   },
   "file_extension": ".py",
   "mimetype": "text/x-python",
   "name": "python",
   "nbconvert_exporter": "python",
   "pygments_lexer": "ipython3",
   "version": "3.5.2"
  }
 },
 "nbformat": 4,
 "nbformat_minor": 0
}
